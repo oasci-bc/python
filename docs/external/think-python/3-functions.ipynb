{
 "cells": [
  {
   "cell_type": "markdown",
   "metadata": {},
   "source": [
    "# 3 Functions\n",
    "\n",
    "In the context of programming, a function is a named sequence of statements that performs a computation.\n",
    "When you define a function, you specify the name and the sequence of statements.\n",
    "Later, you can “call” the function by name."
   ]
  },
  {
   "cell_type": "markdown",
   "metadata": {},
   "source": [
    "## 3.1  Function calls\n",
    "\n",
    "We have already seen one example of a function call:"
   ]
  },
  {
   "cell_type": "code",
   "execution_count": null,
   "metadata": {
    "vscode": {
     "languageId": "plaintext"
    }
   },
   "outputs": [],
   "source": [
    "type(42)"
   ]
  },
  {
   "cell_type": "markdown",
   "metadata": {},
   "source": [
    "The name of the function is type.\n",
    "The expression in parentheses is called the argument of the function.\n",
    "The result, for this function, is the type of the argument. \n",
    "\n",
    "It is common to say that a function “takes” an argument and “returns” a result.\n",
    "The result is also called the return value.\n",
    "\n",
    "Python provides functions that convert values from one type to another.\n",
    "The `int` function takes any value and converts it to an integer, if it can, or complains otherwise: "
   ]
  },
  {
   "cell_type": "code",
   "execution_count": null,
   "metadata": {
    "vscode": {
     "languageId": "plaintext"
    }
   },
   "outputs": [],
   "source": [
    "int('32')"
   ]
  },
  {
   "cell_type": "code",
   "execution_count": null,
   "metadata": {
    "vscode": {
     "languageId": "plaintext"
    }
   },
   "outputs": [],
   "source": [
    "int('Hello')"
   ]
  },
  {
   "cell_type": "markdown",
   "metadata": {},
   "source": [
    "`int` can convert floating-point values to integers, but it doesn’t round off; it chops off the fraction part:"
   ]
  },
  {
   "cell_type": "code",
   "execution_count": null,
   "metadata": {
    "vscode": {
     "languageId": "plaintext"
    }
   },
   "outputs": [],
   "source": [
    "int(3.99999)"
   ]
  },
  {
   "cell_type": "code",
   "execution_count": null,
   "metadata": {
    "vscode": {
     "languageId": "plaintext"
    }
   },
   "outputs": [],
   "source": [
    "int(-2.3)"
   ]
  },
  {
   "cell_type": "markdown",
   "metadata": {},
   "source": [
    "`float` converts integers and strings to floating-point numbers:"
   ]
  },
  {
   "cell_type": "code",
   "execution_count": null,
   "metadata": {
    "vscode": {
     "languageId": "plaintext"
    }
   },
   "outputs": [],
   "source": [
    "float(32)"
   ]
  },
  {
   "cell_type": "code",
   "execution_count": null,
   "metadata": {
    "vscode": {
     "languageId": "plaintext"
    }
   },
   "outputs": [],
   "source": [
    "float('3.14159')"
   ]
  },
  {
   "cell_type": "markdown",
   "metadata": {},
   "source": [
    "Finally, `str` converts its argument to a string: "
   ]
  },
  {
   "cell_type": "code",
   "execution_count": null,
   "metadata": {
    "vscode": {
     "languageId": "plaintext"
    }
   },
   "outputs": [],
   "source": [
    "str(32)"
   ]
  },
  {
   "cell_type": "code",
   "execution_count": null,
   "metadata": {
    "vscode": {
     "languageId": "plaintext"
    }
   },
   "outputs": [],
   "source": [
    "str(3.14159)"
   ]
  },
  {
   "cell_type": "markdown",
   "metadata": {},
   "source": [
    "## 3.2  Math functions\n",
    "\n",
    "Python has a `math` module that provides most of the familiar mathematical functions.\n",
    "A module is a file that contains a collection of related functions.\n",
    "\n",
    "Before we can use the functions in a module, we have to import it with an `import` statement:"
   ]
  },
  {
   "cell_type": "code",
   "execution_count": null,
   "metadata": {
    "vscode": {
     "languageId": "plaintext"
    }
   },
   "outputs": [],
   "source": [
    "import math"
   ]
  },
  {
   "cell_type": "markdown",
   "metadata": {},
   "source": [
    "This statement creates a module object named `math`.\n",
    "If you display the module object, you get some information about it:"
   ]
  },
  {
   "cell_type": "code",
   "execution_count": null,
   "metadata": {
    "vscode": {
     "languageId": "plaintext"
    }
   },
   "outputs": [],
   "source": [
    "math"
   ]
  },
  {
   "cell_type": "markdown",
   "metadata": {},
   "source": [
    "The module object contains the functions and variables defined in the module.\n",
    "To access one of the functions, you have to specify the name of the module and the name of the function, separated by a dot (also known as a period).\n",
    "This format is called dot notation. "
   ]
  },
  {
   "cell_type": "code",
   "execution_count": null,
   "metadata": {
    "vscode": {
     "languageId": "plaintext"
    }
   },
   "outputs": [],
   "source": [
    "signal_power = 80\n",
    "noise_power = 20\n",
    "\n",
    "ratio = signal_power / noise_power\n",
    "decibels = 10 * math.log10(ratio)"
   ]
  },
  {
   "cell_type": "code",
   "execution_count": null,
   "metadata": {
    "vscode": {
     "languageId": "plaintext"
    }
   },
   "outputs": [],
   "source": [
    "radians = 0.7\n",
    "height = math.sin(radians)"
   ]
  },
  {
   "cell_type": "markdown",
   "metadata": {},
   "source": [
    "The first example uses `math.log10` to compute a signal-to-noise ratio in decibels (assuming that `signal_power` and `noise_power` are defined). The `math` module also provides `log`, which computes logarithms base $e$."
   ]
  },
  {
   "cell_type": "markdown",
   "metadata": {},
   "source": [
    "The second example finds the sine of radians.\n",
    "The variable name radians is a hint that `sin` and the other trigonometric functions (`cos`, `tan`, etc.) take arguments in radians.\n",
    "To convert from degrees to radians, divide by 180 and multiply by π:"
   ]
  },
  {
   "cell_type": "code",
   "execution_count": null,
   "metadata": {
    "vscode": {
     "languageId": "plaintext"
    }
   },
   "outputs": [],
   "source": [
    "degrees = 45\n",
    "radians = degrees / 180.0 * math.pi\n",
    "math.sin(radians)"
   ]
  },
  {
   "cell_type": "markdown",
   "metadata": {},
   "source": [
    "The expression `math.pi` gets the variable `pi` from the math module.\n",
    "Its value is a floating-point approximation of $\\pi$, accurate to about 15 digits. \n",
    "\n",
    "If you know trigonometry, you can check the previous result by comparing it to the square root of two, divided by two: "
   ]
  },
  {
   "cell_type": "code",
   "execution_count": null,
   "metadata": {},
   "outputs": [],
   "source": [
    "math.sqrt(2) / 2.0"
   ]
  },
  {
   "cell_type": "markdown",
   "metadata": {},
   "source": [
    "## 3.3  Composition\n",
    "\n",
    "So far, we have looked at the elements of a program—variables, expressions, and statements—in isolation, without talking about how to combine them.\n",
    "\n",
    "One of the most useful features of programming languages is their ability to take small building blocks and compose them.\n",
    "For example, the argument of a function can be any kind of expression, including arithmetic operators:"
   ]
  },
  {
   "cell_type": "code",
   "execution_count": null,
   "metadata": {},
   "outputs": [],
   "source": [
    "x = math.sin(degrees / 360.0 * 2 * math.pi)"
   ]
  },
  {
   "cell_type": "markdown",
   "metadata": {},
   "source": [
    "And even function calls:"
   ]
  },
  {
   "cell_type": "code",
   "execution_count": null,
   "metadata": {},
   "outputs": [],
   "source": [
    "x = math.exp(math.log(x + 1))"
   ]
  },
  {
   "cell_type": "markdown",
   "metadata": {},
   "source": [
    "Almost anywhere you can put a value, you can put an arbitrary expression, with one exception: the left side of an assignment statement has to be a variable name.\n",
    "Any other expression on the left side is a syntax error (we will see exceptions to this rule later)."
   ]
  },
  {
   "cell_type": "code",
   "execution_count": null,
   "metadata": {},
   "outputs": [],
   "source": [
    "hours = 1.2"
   ]
  },
  {
   "cell_type": "code",
   "execution_count": null,
   "metadata": {},
   "outputs": [],
   "source": [
    "minutes = hours * 60  # right"
   ]
  },
  {
   "cell_type": "code",
   "execution_count": null,
   "metadata": {},
   "outputs": [],
   "source": [
    "hours * 60 = minutes  # wrong"
   ]
  },
  {
   "cell_type": "markdown",
   "metadata": {},
   "source": [
    "## 3.4  Adding new functions\n",
    "\n",
    "So far, we have only been using the functions that come with Python, but it is also possible to add new functions.\n",
    "A function definition specifies the name of a new function and the sequence of statements that run when the function is called. \n",
    "\n",
    "Here is an example:"
   ]
  },
  {
   "cell_type": "code",
   "execution_count": null,
   "metadata": {},
   "outputs": [],
   "source": [
    "def print_lyrics():\n",
    "    print(\"I'm a lumberjack, and I'm okay.\")\n",
    "    print(\"I sleep all night and I work all day.\")"
   ]
  },
  {
   "cell_type": "markdown",
   "metadata": {},
   "source": [
    "def is a keyword that indicates that this is a function definition.\n",
    "The name of the function is `print_lyrics`. The rules for function names are the same as for variable names: letters, numbers and underscore are legal, but the first character can’t be a number.\n",
    "You can’t use a keyword as the name of a function, and you should avoid having a variable and a function with the same name.\n",
    "\n",
    "The empty parentheses after the name indicate that this function doesn’t take any arguments.\n",
    "\n",
    "The first line of the function definition is called the header; the rest is called the body.\n",
    "The header has to end with a colon and the body has to be indented.\n",
    "By convention, indentation is always four spaces. The body can contain any number of statements.\n",
    "\n",
    "The strings in the print statements are enclosed in double quotes.\n",
    "Single quotes and double quotes do the same thing; most people use double quotes except in cases like this where a double quote appears in the string.\n",
    "\n",
    "All quotation marks (single and double) must be “straight quotes”, usually located next to Enter on the keyboard.\n",
    "“Curly quotes”, like the ones in this sentence, are not legal in Python.\n",
    "\n",
    "If you type a function definition in interactive mode, the interpreter prints dots (`...`) to let you know that the definition isn’t complete: \n",
    "\n",
    "```python\n",
    ">>> def print_lyrics():\n",
    "...     print(\"I'm a lumberjack, and I'm okay.\")\n",
    "...     print(\"I sleep all night and I work all day.\")\n",
    "...\n",
    "```\n",
    "\n",
    "To end the function, you have to enter an empty line.\n",
    "\n",
    "Defining a function creates a function object, which has type function: "
   ]
  },
  {
   "cell_type": "code",
   "execution_count": null,
   "metadata": {},
   "outputs": [],
   "source": [
    "print(print_lyrics)\n",
    "type(print_lyrics)"
   ]
  },
  {
   "cell_type": "markdown",
   "metadata": {},
   "source": [
    "The syntax for calling the new function is the same as for built-in functions:"
   ]
  },
  {
   "cell_type": "code",
   "execution_count": null,
   "metadata": {},
   "outputs": [],
   "source": [
    "print_lyrics()"
   ]
  },
  {
   "cell_type": "markdown",
   "metadata": {},
   "source": [
    "Once you have defined a function, you can use it inside another function.\n",
    "For example, to repeat the previous refrain, we could write a function called `repeat_lyrics`:"
   ]
  },
  {
   "cell_type": "code",
   "execution_count": null,
   "metadata": {},
   "outputs": [],
   "source": [
    "def repeat_lyrics():\n",
    "    print_lyrics()\n",
    "    print_lyrics()"
   ]
  },
  {
   "cell_type": "markdown",
   "metadata": {},
   "source": [
    "And then call `repeat_lyrics`:"
   ]
  },
  {
   "cell_type": "code",
   "execution_count": null,
   "metadata": {},
   "outputs": [],
   "source": [
    "repeat_lyrics()"
   ]
  },
  {
   "cell_type": "markdown",
   "metadata": {},
   "source": [
    "But that’s not really how the song goes."
   ]
  },
  {
   "cell_type": "markdown",
   "metadata": {},
   "source": [
    "## 3.5  Definitions and uses\n",
    "\n",
    "Pulling together the code fragments from the previous section, the whole program looks like this:"
   ]
  },
  {
   "cell_type": "code",
   "execution_count": null,
   "metadata": {},
   "outputs": [],
   "source": [
    "def print_lyrics():\n",
    "    print(\"I'm a lumberjack, and I'm okay.\")\n",
    "    print(\"I sleep all night and I work all day.\")\n",
    "\n",
    "def repeat_lyrics():\n",
    "    print_lyrics()\n",
    "    print_lyrics()\n",
    "\n",
    "repeat_lyrics()"
   ]
  },
  {
   "cell_type": "markdown",
   "metadata": {},
   "source": [
    "This program contains two function definitions: `print_lyrics` and `repeat_lyrics`.\n",
    "Function definitions get executed just like other statements, but the effect is to create function objects.\n",
    "The statements inside the function do not run until the function is called, and the function definition generates no output.\n",
    "\n",
    "As you might expect, you have to create a function before you can run it.\n",
    "In other words, the function definition has to run before the function gets called.\n",
    "\n",
    "As an exercise, move the last line of this program to the top, so the function call appears before the definitions.\n",
    "Run the program and see what error message you get.\n",
    "\n",
    "Now move the function call back to the bottom and move the definition of `print_lyrics` after the definition of `repeat_lyrics`.\n",
    "What happens when you run this program?"
   ]
  },
  {
   "cell_type": "markdown",
   "metadata": {},
   "source": [
    "## 3.6  Flow of execution\n",
    "\n",
    "To ensure that a function is defined before its first use, you have to know the order statements run in, which is called the flow of execution.\n",
    "\n",
    "Execution always begins at the first statement of the program.\n",
    "Statements are run one at a time, in order from top to bottom.\n",
    "\n",
    "Function definitions do not alter the flow of execution of the program, but remember that statements inside the function don’t run until the function is called.\n",
    "\n",
    "A function call is like a detour in the flow of execution.\n",
    "Instead of going to the next statement, the flow jumps to the body of the function, runs the statements there, and then comes back to pick up where it left off.\n",
    "\n",
    "That sounds simple enough, until you remember that one function can call another.\n",
    "While in the middle of one function, the program might have to run the statements in another function.\n",
    "Then, while running that new function, the program might have to run yet another function!\n",
    "\n",
    "Fortunately, Python is good at keeping track of where it is, so each time a function completes, the program picks up where it left off in the function that called it.\n",
    "When it gets to the end of the program, it terminates.\n",
    "\n",
    "In summary, when you read a program, you don’t always want to read from top to bottom.\n",
    "Sometimes it makes more sense if you follow the flow of execution."
   ]
  },
  {
   "cell_type": "markdown",
   "metadata": {},
   "source": [
    "## 3.7  Parameters and arguments\n",
    "\n",
    "Some of the functions we have seen require arguments.\n",
    "For example, when you call `math.sin` you pass a number as an argument.\n",
    "Some functions take more than one argument: `math.pow` takes two, the base and the exponent.\n",
    "\n",
    "Inside the function, the arguments are assigned to variables called parameters.\n",
    "Here is a definition for a function that takes an argument: "
   ]
  },
  {
   "cell_type": "code",
   "execution_count": null,
   "metadata": {},
   "outputs": [],
   "source": [
    "def print_twice(bruce):\n",
    "    print(bruce)\n",
    "    print(bruce)"
   ]
  },
  {
   "cell_type": "markdown",
   "metadata": {},
   "source": [
    "This function assigns the argument to a parameter named `bruce`.\n",
    "When the function is called, it prints the value of the parameter (whatever it is) twice.\n",
    "\n",
    "This function works with any value that can be printed."
   ]
  },
  {
   "cell_type": "code",
   "execution_count": null,
   "metadata": {},
   "outputs": [],
   "source": [
    "print_twice('Spam')"
   ]
  },
  {
   "cell_type": "code",
   "execution_count": null,
   "metadata": {},
   "outputs": [],
   "source": [
    "print_twice(42)"
   ]
  },
  {
   "cell_type": "code",
   "execution_count": null,
   "metadata": {},
   "outputs": [],
   "source": [
    "print_twice(math.pi)"
   ]
  },
  {
   "cell_type": "markdown",
   "metadata": {},
   "source": [
    "The same rules of composition that apply to built-in functions also apply to programmer-defined functions, so we can use any kind of expression as an argument for `print_twice`: "
   ]
  },
  {
   "cell_type": "code",
   "execution_count": null,
   "metadata": {},
   "outputs": [],
   "source": [
    "print_twice('Spam '*4)"
   ]
  },
  {
   "cell_type": "code",
   "execution_count": null,
   "metadata": {},
   "outputs": [],
   "source": [
    "print_twice(math.cos(math.pi))"
   ]
  },
  {
   "cell_type": "markdown",
   "metadata": {},
   "source": [
    "The argument is evaluated before the function is called, so in the examples the expressions `'Spam '*4` and `math.cos(math.pi)` are only evaluated once.\n",
    "\n",
    "You can also use a variable as an argument:"
   ]
  },
  {
   "cell_type": "code",
   "execution_count": null,
   "metadata": {},
   "outputs": [],
   "source": [
    "michael = 'Eric, the half a bee.'\n",
    "print_twice(michael)"
   ]
  },
  {
   "cell_type": "markdown",
   "metadata": {},
   "source": [
    "The name of the variable we pass as an argument (`michael`) has nothing to do with the name of the parameter (`bruce`).\n",
    "It doesn’t matter what the value was called back home (in the caller); here in `print_twice`, we call everybody `bruce`."
   ]
  },
  {
   "cell_type": "markdown",
   "metadata": {},
   "source": [
    "## 3.8  Variables and parameters are local\n",
    "\n",
    "When you create a variable inside a function, it is local, which means that it only exists inside the function.\n",
    "For example: "
   ]
  },
  {
   "cell_type": "code",
   "execution_count": null,
   "metadata": {},
   "outputs": [],
   "source": [
    "def cat_twice(part1, part2):\n",
    "    cat = part1 + part2\n",
    "    print_twice(cat)"
   ]
  },
  {
   "cell_type": "markdown",
   "metadata": {},
   "source": [
    "This function takes two arguments, concatenates them, and prints the result twice.\n",
    "Here is an example that uses it: "
   ]
  },
  {
   "cell_type": "code",
   "execution_count": null,
   "metadata": {},
   "outputs": [],
   "source": [
    "line1 = 'Bing tiddle '\n",
    "line2 = 'tiddle bang.'\n",
    "cat_twice(line1, line2)"
   ]
  },
  {
   "cell_type": "markdown",
   "metadata": {},
   "source": [
    "When `cat_twice` terminates, the variable `cat` is destroyed.\n",
    "If we try to print it, we get an exception:"
   ]
  },
  {
   "cell_type": "code",
   "execution_count": null,
   "metadata": {},
   "outputs": [],
   "source": [
    "print(cat)"
   ]
  },
  {
   "cell_type": "markdown",
   "metadata": {},
   "source": [
    "Parameters are also local.\n",
    "For example, outside `print_twice`, there is no such thing as `bruce`."
   ]
  },
  {
   "cell_type": "markdown",
   "metadata": {},
   "source": [
    "## 3.9  Stack diagrams\n",
    "\n",
    "To keep track of which variables can be used where, it is sometimes useful to draw a stack diagram.\n",
    "Like state diagrams, stack diagrams show the value of each variable, but they also show the function each variable belongs to.\n",
    "\n",
    "Each function is represented by a frame.\n",
    "A frame is a box with the name of a function beside it and the parameters and variables of the function inside it.\n",
    "The stack diagram for the previous example is shown in Figure 3.1.\n",
    "\n",
    "![Stack Diagram](https://greenteapress.com/thinkpython2/html/thinkpython2002.png)\n",
    "\n",
    "The frames are arranged in a stack that indicates which function called which, and so on.\n",
    "In this example, `print_twice` was called by `cat_twice`, and `cat_twice` was called by `__main__`, which is a special name for the topmost frame.\n",
    "When you create a variable outside of any function, it belongs to `__main__`.\n",
    "\n",
    "Each parameter refers to the same value as its corresponding argument.\n",
    "So, part1 has the same value as `line1`, `part2` has the same value as `line2`, and `bruce` has the same value as `cat`.\n",
    "\n",
    "If an error occurs during a function call, Python prints the name of the function, the name of the function that called it, and the name of the function that called that, all the way back to `__main__`.\n",
    "\n",
    "For example, if you try to access `cat` from within `print_twice`, you get a NameError:\n",
    "\n",
    "```python\n",
    "Traceback (innermost last):\n",
    "  File \"test.py\", line 13, in __main__\n",
    "    cat_twice(line1, line2)\n",
    "  File \"test.py\", line 5, in cat_twice\n",
    "    print_twice(cat)\n",
    "  File \"test.py\", line 9, in print_twice\n",
    "    print(cat)\n",
    "NameError: name 'cat' is not defined\n",
    "```"
   ]
  },
  {
   "cell_type": "markdown",
   "metadata": {},
   "source": [
    "This list of functions is called a traceback.\n",
    "It tells you what program file the error occurred in, and what line, and what functions were executing at the time.\n",
    "It also shows the line of code that caused the error.\n",
    "\n",
    "The order of the functions in the traceback is the same as the order of the frames in the stack diagram.\n",
    "The function that is currently running is at the bottom."
   ]
  },
  {
   "cell_type": "markdown",
   "metadata": {},
   "source": [
    "## 3.10  Fruitful functions and void functions\n",
    "\n",
    "Some of the functions we have used, such as the math functions, return results; for lack of a better name, I call them fruitful functions.\n",
    "Other functions, like print_twice, perform an action but don’t return a value. They are called void functions.\n",
    "\n",
    "When you call a fruitful function, you almost always want to do something with the result; for example, you might assign it to a variable or use it as part of an expression:"
   ]
  },
  {
   "cell_type": "code",
   "execution_count": null,
   "metadata": {},
   "outputs": [],
   "source": [
    "x = math.cos(radians)\n",
    "golden = (math.sqrt(5) + 1) / 2"
   ]
  },
  {
   "cell_type": "markdown",
   "metadata": {},
   "source": [
    "When you call a function in interactive mode, Python displays the result:"
   ]
  },
  {
   "cell_type": "code",
   "execution_count": null,
   "metadata": {},
   "outputs": [],
   "source": [
    "math.sqrt(5)"
   ]
  },
  {
   "cell_type": "markdown",
   "metadata": {},
   "source": [
    "But in a script, if you call a fruitful function all by itself, the return value is lost forever!\n",
    "This script computes the square root of 5, but since it doesn’t store or display the result, it is not very useful.\n",
    "\n",
    "Void functions might display something on the screen or have some other effect, but they don’t have a return value.\n",
    "If you assign the result to a variable, you get a special value called None. "
   ]
  },
  {
   "cell_type": "code",
   "execution_count": null,
   "metadata": {},
   "outputs": [],
   "source": [
    "result = print_twice('Bing')\n",
    "print(result)"
   ]
  },
  {
   "cell_type": "markdown",
   "metadata": {},
   "source": [
    "The value `None` is not the same as the string `'None'`.\n",
    "It is a special value that has its own type:"
   ]
  },
  {
   "cell_type": "code",
   "execution_count": null,
   "metadata": {},
   "outputs": [],
   "source": [
    "type(None)"
   ]
  },
  {
   "cell_type": "markdown",
   "metadata": {},
   "source": [
    "The functions we have written so far are all void.\n",
    "We will start writing fruitful functions in a few chapters. "
   ]
  },
  {
   "cell_type": "markdown",
   "metadata": {},
   "source": [
    "## 3.11  Why functions?\n",
    "\n",
    "It may not be clear why it is worth the trouble to divide a program into functions. There are several reasons:\n",
    "\n",
    "- Creating a new function gives you an opportunity to name a group of statements, which makes your program easier to read and debug.\n",
    "- Functions can make a program smaller by eliminating repetitive code. Later, if you make a change, you only have to make it in one place.\n",
    "- Dividing a long program into functions allows you to debug the parts one at a time and then assemble them into a working whole.\n",
    "- Well-designed functions are often useful for many programs. Once you write and debug one, you can reuse it."
   ]
  },
  {
   "cell_type": "markdown",
   "metadata": {},
   "source": [
    "## 3.12  Debugging\n",
    "\n",
    "One of the most important skills you will acquire is debugging.\n",
    "Although it can be frustrating, debugging is one of the most intellectually rich, challenging, and interesting parts of programming.\n",
    "\n",
    "In some ways debugging is like detective work.\n",
    "You are confronted with clues and you have to infer the processes and events that led to the results you see.\n",
    "\n",
    "Debugging is also like an experimental science.\n",
    "Once you have an idea about what is going wrong, you modify your program and try again.\n",
    "If your hypothesis was correct, you can predict the result of the modification, and you take a step closer to a working program.\n",
    "If your hypothesis was wrong, you have to come up with a new one. As Sherlock Holmes pointed out, “When you have eliminated the impossible, whatever remains, however improbable, must be the truth.” (A. Conan Doyle, The Sign of Four)\n",
    "\n",
    "For some people, programming and debugging are the same thing.\n",
    "That is, programming is the process of gradually debugging a program until it does what you want.\n",
    "The idea is that you should start with a working program and make small modifications, debugging them as you go.\n",
    "\n",
    "For example, Linux is an operating system that contains millions of lines of code, but it started out as a simple program Linus Torvalds used to explore the Intel 80386 chip.\n",
    "According to Larry Greenfield, “One of Linus’s earlier projects was a program that would switch between printing AAAA and BBBB. This later evolved to Linux.” (The Linux Users’ Guide Beta Version 1). "
   ]
  },
  {
   "cell_type": "markdown",
   "metadata": {},
   "source": [
    "## 3.13  Glossary\n",
    "\n",
    "- **function:**\n",
    "    A named sequence of statements that performs some useful operation. Functions may or may not take arguments and may or may not produce a result. \n",
    "- **function definition:**\n",
    "    A statement that creates a new function, specifying its name, parameters, and the statements it contains. \n",
    "- **function object:**\n",
    "    A value created by a function definition.\n",
    "    The name of the function is a variable that refers to a function object. \n",
    "- **header:**\n",
    "    The first line of a function definition. \n",
    "- **body:**\n",
    "    The sequence of statements inside a function definition. \n",
    "- **parameter:**\n",
    "    A name used inside a function to refer to the value passed as an argument. \n",
    "- **function call:**\n",
    "    A statement that runs a function.\n",
    "    It consists of the function name followed by an argument list in parentheses. \n",
    "- **argument:**\n",
    "    A value provided to a function when the function is called.\n",
    "    This value is assigned to the corresponding parameter in the function. \n",
    "- **local variable:**\n",
    "    A variable defined inside a function.\n",
    "    A local variable can only be used inside its function. \n",
    "- **return value:**\n",
    "    The result of a function.\n",
    "    If a function call is used as an expression, the return value is the value of the expression. \n",
    "- **fruitful function:**\n",
    "    A function that returns a value. \n",
    "- **void function:**\n",
    "    A function that always returns `None`. \n",
    "- **None:**\n",
    "    A special value returned by void functions. \n",
    "- **module:**\n",
    "    A file that contains a collection of related functions and other definitions. \n",
    "- **import statement:**\n",
    "    A statement that reads a module file and creates a module object. \n",
    "- **module object:**\n",
    "    A value created by an `import` statement that provides access to the values defined in a module. \n",
    "- **dot notation:**\n",
    "    The syntax for calling a function in another module by specifying the module name followed by a dot (period) and the function name. \n",
    "- **composition:**\n",
    "    Using an expression as part of a larger expression, or a statement as part of a larger statement. \n",
    "- **flow of execution:**\n",
    "    The order statements run in. \n",
    "- **stack diagram:**\n",
    "    A graphical representation of a stack of functions, their variables, and the values they refer to. \n",
    "- **frame:**\n",
    "    A box in a stack diagram that represents a function call.\n",
    "    It contains the local variables and parameters of the function. \n",
    "- **traceback:**\n",
    "    A list of the functions that are executing, printed when an exception occurs."
   ]
  },
  {
   "cell_type": "markdown",
   "metadata": {},
   "source": [
    "## 3.14  Exercises\n",
    "\n",
    "### Exercise 1  \n",
    "\n",
    "Write a function named `right_justify` that takes a string named `s` as a parameter and prints the string with enough leading spaces so that the last letter of the string is in column 70 of the display.\n",
    "\n",
    "```python\n",
    "right_justify('monty')\n",
    "```\n",
    "<p style=\"text-align: right;\">monty</p>\n",
    "\n",
    "\n",
    "<div class=\"admonition tip\">\n",
    "<p class=\"admonition-title\">Hint</p>\n",
    "\n",
    "Use string concatenation and repetition.\n",
    "Also, Python provides a built-in function called `len` that returns the length of a string, so the value of `len('monty')` is `5`.\n",
    "\n",
    "</div>"
   ]
  },
  {
   "cell_type": "code",
   "execution_count": null,
   "metadata": {},
   "outputs": [],
   "source": [
    "# Try exercise 1 here!\n"
   ]
  },
  {
   "cell_type": "markdown",
   "metadata": {},
   "source": [
    "### Exercise 2  \n",
    "\n",
    "A function object is a value you can assign to a variable or pass as an argument.\n",
    "For example, `do_twice` is a function that takes a function object as an argument and calls it twice:\n",
    "\n",
    "```python\n",
    "def do_twice(f):\n",
    "    f()\n",
    "    f()\n",
    "```\n",
    "\n",
    "Here’s an example that uses `do_twice` to call a function named `print_spam` twice.\n",
    "\n",
    "```python\n",
    "def print_spam():\n",
    "    print(\"spam\")\n",
    "\n",
    "do_twice(print_spam)\n",
    "```\n",
    "\n",
    "1. Type this example into a script and test it.\n",
    "2. Modify `do_twice` so that it takes two arguments, a function object and a value, and calls the function twice, passing the value as an argument.\n",
    "3. Copy the definition of `print_twice` from earlier in this chapter to your script.\n",
    "4. Use the modified version of `do_twice` to call `print_twice` twice, passing `'spam'` as an argument.\n",
    "5. Define a new function called do_four that takes a function object and a value and calls the function four times, passing the value as a parameter.\n",
    "    There should be only two statements in the body of this function, not four."
   ]
  },
  {
   "cell_type": "code",
   "execution_count": null,
   "metadata": {},
   "outputs": [],
   "source": [
    "# Try exercise 2 here!"
   ]
  },
  {
   "cell_type": "markdown",
   "metadata": {},
   "source": [
    "Solution: https://thinkpython.com/code/do_four.py."
   ]
  },
  {
   "cell_type": "markdown",
   "metadata": {},
   "source": [
    "### Exercise 3  \n",
    "\n",
    "<div class=\"admonition note\">\n",
    "<p class=\"admonition-title\">Note</p>\n",
    "\n",
    "This exercise should be done using only the statements and other features we have learned so far.\n",
    "\n",
    "</div>\n",
    "\n",
    "1. Write a function that draws a grid like the following:\n",
    "\n",
    "```text\n",
    "+ - - - - + - - - - +\n",
    "|         |         |\n",
    "|         |         |\n",
    "|         |         |\n",
    "|         |         |\n",
    "+ - - - - + - - - - +\n",
    "|         |         |\n",
    "|         |         |\n",
    "|         |         |\n",
    "|         |         |\n",
    "+ - - - - + - - - - +\n",
    "```\n",
    "\n",
    "<div class=\"admonition tip\">\n",
    "<p class=\"admonition-title\">Hint</p>\n",
    "\n",
    "To print more than one value on a line, you can print a comma-separated sequence of values:\n",
    "\n",
    "```python\n",
    "print('+', '-')\n",
    "```\n",
    "\n",
    "By default, print advances to the next line, but you can override that behavior and put a space at the end, like this:\n",
    "\n",
    "```python\n",
    "print('+', end=' ')\n",
    "print('-')\n",
    "```\n",
    "\n",
    "The output of these statements is `'+ -'` on the same line. The output from the next print statement would begin on the next line.\n",
    "\n",
    "</div>\n",
    "\n",
    "2. Write a function that draws a similar grid with four rows and four columns."
   ]
  },
  {
   "cell_type": "code",
   "execution_count": null,
   "metadata": {},
   "outputs": [],
   "source": [
    "# Try exercise 3 here!"
   ]
  },
  {
   "cell_type": "markdown",
   "metadata": {},
   "source": [
    "Solution: https://thinkpython.com/code/grid.py."
   ]
  }
 ],
 "metadata": {
  "kernelspec": {
   "display_name": "biosc1630-2023-fall",
   "language": "python",
   "name": "python3"
  },
  "language_info": {
   "codemirror_mode": {
    "name": "ipython",
    "version": 3
   },
   "file_extension": ".py",
   "mimetype": "text/x-python",
   "name": "python",
   "nbconvert_exporter": "python",
   "pygments_lexer": "ipython3",
   "version": "3.11.5"
  },
  "orig_nbformat": 4
 },
 "nbformat": 4,
 "nbformat_minor": 2
}
