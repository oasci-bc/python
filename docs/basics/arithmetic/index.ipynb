{
 "cells": [
  {
   "cell_type": "markdown",
   "metadata": {},
   "source": [
    "# Arithmetic\n",
    "\n",
    "Python can perform arithmetic operations just like a calculator, but with the flexibility to handle much more complex calculations.\n",
    "In this notebook, you'll learn how to use Python to perform basic math operations such as addition, subtraction, multiplication, division, and more.\n",
    "\n",
    "| **Operator** | **Operation**      | **Example**           | **Result**    |\n",
    "|--------------|--------------------|-----------------------|---------------|\n",
    "| `+`          | Addition           | `3 + 4`              | `7`           |\n",
    "| `-`          | Subtraction        | `7 - 2`              | `5`           |\n",
    "| `*`          | Multiplication     | `5 * 6`              | `30`          |\n",
    "| `/`          | Division           | `8 / 2`              | `4.0`         |\n",
    "| `**`         | Exponentiation     | `2 ** 3`             | `8`           |\n",
    "| `//`         | Floor Division     | `7 // 2`             | `3`           |\n",
    "| `%`          | Modulus (Remainder)| `7 % 2`              | `1`           |"
   ]
  },
  {
   "cell_type": "markdown",
   "metadata": {},
   "source": [
    "## Addition\n",
    "\n",
    "Python adds numbers with the `+` operator.\n",
    "For example, we can add two numbers and get the result by printing."
   ]
  },
  {
   "cell_type": "code",
   "execution_count": 3,
   "metadata": {},
   "outputs": [
    {
     "name": "stdout",
     "output_type": "stream",
     "text": [
      "7\n"
     ]
    }
   ],
   "source": [
    "print(3 + 4)"
   ]
  },
  {
   "cell_type": "markdown",
   "metadata": {},
   "source": [
    "There is no reason to only stop at two numbers."
   ]
  },
  {
   "cell_type": "code",
   "execution_count": 4,
   "metadata": {},
   "outputs": [
    {
     "name": "stdout",
     "output_type": "stream",
     "text": [
      "12\n"
     ]
    }
   ],
   "source": [
    "print(3 + 4 + 5)"
   ]
  },
  {
   "cell_type": "markdown",
   "metadata": {},
   "source": [
    "What about decimals?"
   ]
  },
  {
   "cell_type": "code",
   "execution_count": 5,
   "metadata": {},
   "outputs": [
    {
     "name": "stdout",
     "output_type": "stream",
     "text": [
      "3.6229209\n"
     ]
    }
   ],
   "source": [
    "print(3.14 + 0.4829209)"
   ]
  },
  {
   "cell_type": "markdown",
   "metadata": {},
   "source": [
    "Surely it cannot add zero."
   ]
  },
  {
   "cell_type": "code",
   "execution_count": 6,
   "metadata": {},
   "outputs": [
    {
     "name": "stdout",
     "output_type": "stream",
     "text": [
      "0\n"
     ]
    }
   ],
   "source": [
    "print(0 + 0)"
   ]
  },
  {
   "cell_type": "markdown",
   "metadata": {},
   "source": [
    "Oh, it can.\n",
    "Neat."
   ]
  },
  {
   "cell_type": "markdown",
   "metadata": {},
   "source": [
    "## Subtraction\n",
    "\n",
    "We can also do some subtraction."
   ]
  },
  {
   "cell_type": "code",
   "execution_count": 7,
   "metadata": {},
   "outputs": [
    {
     "name": "stdout",
     "output_type": "stream",
     "text": [
      "5\n"
     ]
    }
   ],
   "source": [
    "print(7 - 2)"
   ]
  },
  {
   "cell_type": "markdown",
   "metadata": {},
   "source": [
    "This still works on decimals!"
   ]
  },
  {
   "cell_type": "code",
   "execution_count": 8,
   "metadata": {},
   "outputs": [
    {
     "name": "stdout",
     "output_type": "stream",
     "text": [
      "72.5308\n"
     ]
    }
   ],
   "source": [
    "print(73.92 - 1.3892)"
   ]
  },
  {
   "cell_type": "markdown",
   "metadata": {},
   "source": [
    "## Multiplication\n",
    "\n",
    "In Python, a single `*` symbol means multiplication."
   ]
  },
  {
   "cell_type": "code",
   "execution_count": 9,
   "metadata": {},
   "outputs": [
    {
     "name": "stdout",
     "output_type": "stream",
     "text": [
      "30\n"
     ]
    }
   ],
   "source": [
    "print(5 * 6)"
   ]
  },
  {
   "cell_type": "markdown",
   "metadata": {},
   "source": [
    "Oh how I wish I had this when learning the multiplication tables.\n",
    "I also don't have to worry about computing how much to tip."
   ]
  },
  {
   "cell_type": "code",
   "execution_count": 10,
   "metadata": {},
   "outputs": [
    {
     "name": "stdout",
     "output_type": "stream",
     "text": [
      "6.48\n"
     ]
    }
   ],
   "source": [
    "print(0.2 * 32.4)"
   ]
  },
  {
   "cell_type": "markdown",
   "metadata": {},
   "source": [
    "## Division\n",
    "\n",
    "In Python, the `/` symbol means division.\n",
    "I wonder how many slices of pizza each person can have if I share with `3` people."
   ]
  },
  {
   "cell_type": "code",
   "execution_count": 11,
   "metadata": {},
   "outputs": [
    {
     "name": "stdout",
     "output_type": "stream",
     "text": [
      "4.0\n"
     ]
    }
   ],
   "source": [
    "print(8 / 2)"
   ]
  },
  {
   "cell_type": "markdown",
   "metadata": {},
   "source": [
    "Well, I guess not.\n",
    "Maybe next time."
   ]
  },
  {
   "cell_type": "markdown",
   "metadata": {},
   "source": [
    "## Exponents\n",
    "\n",
    "So far, we have had similar symbol operations for math; however, python uses `**` to mean the exponent.\n",
    "For example, $2^3$ would be computed in Python as."
   ]
  },
  {
   "cell_type": "code",
   "execution_count": 12,
   "metadata": {},
   "outputs": [
    {
     "name": "stdout",
     "output_type": "stream",
     "text": [
      "8\n"
     ]
    }
   ],
   "source": [
    "print(2**3)"
   ]
  },
  {
   "cell_type": "markdown",
   "metadata": {},
   "source": [
    "Now, sometimes you have to deal with pretty large numbers in scientific notation, like $1.3 \\times 10^{4}$.\n",
    "We can use our exponents and multiplication."
   ]
  },
  {
   "cell_type": "code",
   "execution_count": 13,
   "metadata": {},
   "outputs": [
    {
     "name": "stdout",
     "output_type": "stream",
     "text": [
      "13000.0\n"
     ]
    }
   ],
   "source": [
    "print(1.3 * 10**4)"
   ]
  },
  {
   "cell_type": "markdown",
   "metadata": {},
   "source": [
    "I do not technically need to put `(7)`, but it does not hurt."
   ]
  },
  {
   "cell_type": "code",
   "execution_count": 14,
   "metadata": {},
   "outputs": [
    {
     "name": "stdout",
     "output_type": "stream",
     "text": [
      "13000.0\n"
     ]
    }
   ],
   "source": [
    "print(1.3 * 10 ** (4))"
   ]
  },
  {
   "cell_type": "markdown",
   "metadata": {},
   "source": [
    "However, if I want to do something like $1.3 \\times 10^{7 * 0.5}$, I definitely need the `()`."
   ]
  },
  {
   "cell_type": "code",
   "execution_count": 15,
   "metadata": {},
   "outputs": [
    {
     "name": "stdout",
     "output_type": "stream",
     "text": [
      "6500000.0\n"
     ]
    }
   ],
   "source": [
    "print(1.3 * 10**7 * 0.5)  # This is wrong!"
   ]
  },
  {
   "cell_type": "code",
   "execution_count": 16,
   "metadata": {},
   "outputs": [
    {
     "name": "stdout",
     "output_type": "stream",
     "text": [
      "4110.960958218893\n"
     ]
    }
   ],
   "source": [
    "print(1.3 * 10 ** (7 * 0.5))  # This is right!"
   ]
  },
  {
   "cell_type": "markdown",
   "metadata": {},
   "source": [
    "It can get really tedious to keep typing `1.3 * 10**2`, so Python has a shortcut to just type `1.3e2`."
   ]
  },
  {
   "cell_type": "code",
   "execution_count": 17,
   "metadata": {},
   "outputs": [
    {
     "name": "stdout",
     "output_type": "stream",
     "text": [
      "130.0\n"
     ]
    }
   ],
   "source": [
    "print(1.3 * 10**2)"
   ]
  },
  {
   "cell_type": "code",
   "execution_count": 18,
   "metadata": {},
   "outputs": [
    {
     "name": "stdout",
     "output_type": "stream",
     "text": [
      "130.0\n"
     ]
    }
   ],
   "source": [
    "print(1.3e2)"
   ]
  },
  {
   "cell_type": "markdown",
   "metadata": {},
   "source": [
    "## Math library\n",
    "\n",
    "Python may have a lot of built in calculator stuff, but it does not have everything.\n",
    "For things like $\\cos(\\pi)$ or $e^{0.2}$ we need to import the `math` [library](../libraries).\n",
    "Do not worry about what a library is yet, we will get there later.\n",
    "At the moment, you just need to know that you need to tell Python you want to use the `math` library.\n",
    "We do this by using the `import` statement.\n",
    "\n",
    "You can get information of what is inside this math library by going to its [documentation](https://docs.python.org/3/library/math.html)."
   ]
  },
  {
   "cell_type": "code",
   "execution_count": 20,
   "metadata": {},
   "outputs": [],
   "source": [
    "import math"
   ]
  },
  {
   "cell_type": "code",
   "execution_count": 21,
   "metadata": {},
   "outputs": [
    {
     "name": "stdout",
     "output_type": "stream",
     "text": [
      "-1.0\n"
     ]
    }
   ],
   "source": [
    "print(math.cos(math.pi))"
   ]
  },
  {
   "cell_type": "code",
   "execution_count": 22,
   "metadata": {},
   "outputs": [
    {
     "name": "stdout",
     "output_type": "stream",
     "text": [
      "1.2214027581601699\n"
     ]
    }
   ],
   "source": [
    "print(math.exp(0.2))"
   ]
  },
  {
   "cell_type": "markdown",
   "metadata": {},
   "source": [
    "## 🏅 Exercises\n",
    "\n",
    "Here are some exercises you can do to practice.\n",
    "Open this document in Google Colab and write your Python code in the cells below."
   ]
  },
  {
   "cell_type": "markdown",
   "metadata": {},
   "source": [
    "### Sales tax\n",
    "\n",
    "If this cute blouse costs $32.45, how much will you pay at the register if sales tax is 6%? "
   ]
  },
  {
   "cell_type": "code",
   "execution_count": null,
   "metadata": {},
   "outputs": [],
   "source": []
  },
  {
   "cell_type": "markdown",
   "metadata": {},
   "source": [
    "**Answer:** 34.37"
   ]
  },
  {
   "cell_type": "markdown",
   "metadata": {},
   "source": [
    "### Volume of a cylinder\n",
    "\n",
    "If I have a cylinder with a radius of 0.2 cm and length of 4 cm, what is the volume?"
   ]
  },
  {
   "cell_type": "code",
   "execution_count": null,
   "metadata": {},
   "outputs": [],
   "source": []
  },
  {
   "cell_type": "markdown",
   "metadata": {},
   "source": [
    "**Answer:** 0.503 cm<sup>3</sup>"
   ]
  },
  {
   "cell_type": "markdown",
   "metadata": {},
   "source": [
    "### Number of atoms\n",
    "\n",
    "Suppose I have 0.3 g of glucose (C<sub>6</sub>H<sub>12</sub>O<sub>6</sub>) with a molar mass of 180.156 g/mol.\n",
    "How many Carbon atoms are there?"
   ]
  },
  {
   "cell_type": "code",
   "execution_count": null,
   "metadata": {},
   "outputs": [],
   "source": []
  },
  {
   "cell_type": "markdown",
   "metadata": {},
   "source": [
    "**Answer:** 6.01 × 10<sup>21</sup>"
   ]
  }
 ],
 "metadata": {
  "kernelspec": {
   "display_name": "biosc1540-2024s-dev",
   "language": "python",
   "name": "python3"
  },
  "language_info": {
   "codemirror_mode": {
    "name": "ipython",
    "version": 3
   },
   "file_extension": ".py",
   "mimetype": "text/x-python",
   "name": "python",
   "nbconvert_exporter": "python",
   "pygments_lexer": "ipython3",
   "version": "3.11.7"
  }
 },
 "nbformat": 4,
 "nbformat_minor": 2
}
