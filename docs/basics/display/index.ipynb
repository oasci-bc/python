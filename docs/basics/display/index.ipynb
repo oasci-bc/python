{
 "cells": [
  {
   "cell_type": "markdown",
   "metadata": {},
   "source": [
    "# Display\n",
    "\n",
    "In programming, displaying information is crucial for:\n",
    "\n",
    "- **Debugging:** Understanding what's happening in your code.\n",
    "- **User Interaction:** Providing feedback or results to users.\n",
    "- **Logging:** Recording information for future reference.\n",
    "\n",
    "In Python, we ask a computer to print a message for us by writing `print()` and putting the message inside the parentheses and enclosed in quotation marks.\n",
    "Below, we ask the computer to print the message `Hello, world!`."
   ]
  },
  {
   "cell_type": "code",
   "execution_count": 1,
   "metadata": {},
   "outputs": [
    {
     "name": "stdout",
     "output_type": "stream",
     "text": [
      "Hello, world!\n"
     ]
    }
   ],
   "source": [
    "print(\"Hello, world!\")"
   ]
  },
  {
   "cell_type": "markdown",
   "metadata": {},
   "source": [
    "The code is inside the box (known as a code cell), and the computer's response (called the output of the code) is shown below the box.\n",
    "As you can see, the computer printed the message that we wanted.\n",
    "\n",
    "We can also print multiple things at once and with single, `'`, or double, `\"`, quotation marks"
   ]
  },
  {
   "cell_type": "code",
   "execution_count": 2,
   "metadata": {},
   "outputs": [
    {
     "name": "stdout",
     "output_type": "stream",
     "text": [
      "Alex is 20 years old.\n"
     ]
    }
   ],
   "source": [
    "print(\"Alex is\", '20', 'years old.')"
   ]
  },
  {
   "cell_type": "markdown",
   "metadata": {},
   "source": [
    "If you want to include quotation marks in the string, you need to \"escape\" them like so."
   ]
  },
  {
   "cell_type": "code",
   "execution_count": 3,
   "metadata": {},
   "outputs": [
    {
     "name": "stdout",
     "output_type": "stream",
     "text": [
      "Alex's favorite quote is, \"... wait I forgot it\".\n"
     ]
    }
   ],
   "source": [
    "print('Alex\\'s favorite quote is, \"... wait I forgot it\".')"
   ]
  },
  {
   "cell_type": "markdown",
   "metadata": {},
   "source": [
    "## Special characters\n",
    "\n",
    "When working with text, it’s important to organize it in a way that’s easy to read.\n",
    "Computers use something called a **newline character** to move text to the next line.\n",
    "In Python, this newline character is written as `\\n`.\n",
    "\n",
    "Imagine writing a letter or a story where everything is written on one continuous line.\n",
    "It would be hard to read!\n",
    "Instead, you break the text into separate lines for better readability.\n",
    "In the same way, when Python displays text, we often want it to appear on separate lines.\n",
    "\n",
    "For example:\n",
    "\n",
    "- **Making Output Clearer**: If you’re listing items, it’s easier to read them when each item appears on its own line.\n",
    "- **Organizing Long Messages**: A single long message looks better when split into smaller pieces.\n",
    "\n",
    "To add a new line in Python, you can include the newline character, `\\n`, inside your text."
   ]
  },
  {
   "cell_type": "code",
   "execution_count": 4,
   "metadata": {},
   "outputs": [
    {
     "name": "stdout",
     "output_type": "stream",
     "text": [
      "I have a very, very, very,\n",
      "very, very,\n",
      "very long message.\n"
     ]
    }
   ],
   "source": [
    "print(\n",
    "    \"I have a very, very, very,\\nvery, very,\\nvery long message.\"\n",
    ")"
   ]
  },
  {
   "cell_type": "markdown",
   "metadata": {},
   "source": [
    "The `\\n` tells Python to jump to a new line.\n",
    "\n",
    "You can also add multiple newline characters to create blank lines between text."
   ]
  },
  {
   "cell_type": "code",
   "execution_count": 5,
   "metadata": {},
   "outputs": [
    {
     "name": "stdout",
     "output_type": "stream",
     "text": [
      "I have a funny story to tell.\n",
      "\n",
      "   ~ Alex\n"
     ]
    }
   ],
   "source": [
    "print(\"I have a funny story to tell.\\n\\n   ~ Alex\")"
   ]
  },
  {
   "cell_type": "markdown",
   "metadata": {},
   "source": [
    "Note that every individual print statement, by default, will start on a new line.\n",
    "Here is the same message but with individual `print` statements instead of `\\n`."
   ]
  },
  {
   "cell_type": "code",
   "execution_count": 6,
   "metadata": {},
   "outputs": [
    {
     "name": "stdout",
     "output_type": "stream",
     "text": [
      "I have a funny story to tell.\n",
      "\n",
      "   ~ Alex\n"
     ]
    }
   ],
   "source": [
    "print(\"I have a funny story to tell.\")\n",
    "print(\"\")\n",
    "print(\"   ~ Alex\")"
   ]
  },
  {
   "cell_type": "markdown",
   "metadata": {},
   "source": [
    "However, what if I want Python to print `\"Hello\\nWorld!\"`, but with the actual `\\n` and not a new line?\n",
    "\n",
    "We can do this in one of two ways, and both only require typing one extra character.\n",
    "First, we can tell Python to \"escape\" the special character."
   ]
  },
  {
   "cell_type": "code",
   "execution_count": 7,
   "metadata": {},
   "outputs": [
    {
     "name": "stdout",
     "output_type": "stream",
     "text": [
      "Hello\\nWorld!\n"
     ]
    }
   ],
   "source": [
    "print(\"Hello\\\\nWorld!\")"
   ]
  },
  {
   "cell_type": "markdown",
   "metadata": {},
   "source": [
    "The other way is to tell Python to ignore all special characters and treat it as a raw string.\n",
    "\n",
    "In Python, a raw string tells the program to treat the string exactly as it is written, without interpreting special characters like `\\n`.\n",
    "This can be helpful when you want to include special characters in your string without having to escape them.\n",
    "\n",
    "To create a raw string, prefix the string with an `r` or `R`.\n",
    "When Python sees this prefix, it ignores the special meaning of escape sequences and interprets the backslashes as literal characters."
   ]
  },
  {
   "cell_type": "code",
   "execution_count": 8,
   "metadata": {},
   "outputs": [
    {
     "name": "stdout",
     "output_type": "stream",
     "text": [
      "Hello\\nWorld!\\\\\n"
     ]
    }
   ],
   "source": [
    "print(r\"Hello\\nWorld!\\\\\")"
   ]
  },
  {
   "cell_type": "markdown",
   "metadata": {},
   "source": [
    "## Multiline strings\n",
    "\n",
    "Sometimes, you may need to display a long message or text that spans multiple lines.\n",
    "Instead of using multiple `print()` statements or adding a `\\n` for every new line, Python provides a simpler way to handle this: **multiline strings**.\n",
    "\n",
    "A multiline string allows you to write text that spans several lines without having to use `\\n` explicitly. In Python, you create a multiline string by enclosing the text in **triple quotes** (`'''` or `\"\"\"`)."
   ]
  },
  {
   "cell_type": "code",
   "execution_count": 9,
   "metadata": {},
   "outputs": [
    {
     "name": "stdout",
     "output_type": "stream",
     "text": [
      "This is a multiline string.\n",
      "It allows you to write text\n",
      "on multiple lines without needing \\n.\n"
     ]
    }
   ],
   "source": [
    "print(\"\"\"This is a multiline string.\n",
    "It allows you to write text\n",
    "on multiple lines without needing \\\\n.\"\"\")"
   ]
  },
  {
   "cell_type": "markdown",
   "metadata": {},
   "source": [
    "Notice how the text appears exactly as it was written in the code, with each line starting on a new line.\n",
    "\n",
    "You can also leave blank lines within a multiline string to add extra space:"
   ]
  },
  {
   "cell_type": "code",
   "execution_count": 10,
   "metadata": {},
   "outputs": [
    {
     "name": "stdout",
     "output_type": "stream",
     "text": [
      "This is the first line.\n",
      "\n",
      "This is the third line.\n"
     ]
    }
   ],
   "source": [
    "print('''This is the first line.\n",
    "\n",
    "This is the third line.''')"
   ]
  }
 ],
 "metadata": {
  "kernelspec": {
   "display_name": "default",
   "language": "python",
   "name": "python3"
  },
  "language_info": {
   "codemirror_mode": {
    "name": "ipython",
    "version": 3
   },
   "file_extension": ".py",
   "mimetype": "text/x-python",
   "name": "python",
   "nbconvert_exporter": "python",
   "pygments_lexer": "ipython3",
   "version": "3.13.0"
  }
 },
 "nbformat": 4,
 "nbformat_minor": 2
}
