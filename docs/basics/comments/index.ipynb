{
 "cells": [
  {
   "cell_type": "markdown",
   "metadata": {},
   "source": [
    "# Comments\n",
    "\n",
    "We use comments to annotate what code is doing or explaining why.\n",
    "This helps other people to understand your code, and they can also be helpful if you haven't looked at your own code in a while.\n",
    "So far, we have written short code, but annotations become more important when you have written a lot of code.\n",
    "\n",
    "Once Python sees the pound sign and recognizes that the line is a comment, it is completely ignored by the computer."
   ]
  },
  {
   "cell_type": "code",
   "execution_count": 19,
   "metadata": {},
   "outputs": [
    {
     "name": "stdout",
     "output_type": "stream",
     "text": [
      "9\n"
     ]
    }
   ],
   "source": [
    "# print(2 * 2)  This will not print!\n",
    "print(3 * 3)"
   ]
  },
  {
   "cell_type": "markdown",
   "metadata": {},
   "source": [
    "This is important, because just like English or Hindi (or any other language!), Python is a language with very strict rules that need to be followed.\n",
    "Python is stricter than a human listener, though, and will just error if it can't understand the code."
   ]
  }
 ],
 "metadata": {
  "kernelspec": {
   "display_name": "biosc1540-2024s-dev",
   "language": "python",
   "name": "python3"
  },
  "language_info": {
   "codemirror_mode": {
    "name": "ipython",
    "version": 3
   },
   "file_extension": ".py",
   "mimetype": "text/x-python",
   "name": "python",
   "nbconvert_exporter": "python",
   "pygments_lexer": "ipython3",
   "version": "3.11.7"
  }
 },
 "nbformat": 4,
 "nbformat_minor": 2
}
