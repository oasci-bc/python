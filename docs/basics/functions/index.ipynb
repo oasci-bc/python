{
 "cells": [
  {
   "cell_type": "markdown",
   "metadata": {},
   "source": [
    "# Functions\n",
    "\n",
    "Functions are reusable pieces of programs.\n",
    "They allow you to give a label to a group of Python code, allowing you to run that block by using its name anywhere.\n",
    "If you are new to programming in general, you may find [PySnack](./pysnack/) useful as a toy, conceptual example to understand functions.\n",
    "For a more academic (and perhaps less fun) introduction, continue below."
   ]
  }
 ],
 "metadata": {
  "kernelspec": {
   "display_name": "default",
   "language": "python",
   "name": "python3"
  },
  "language_info": {
   "codemirror_mode": {
    "name": "ipython",
    "version": 3
   },
   "file_extension": ".py",
   "mimetype": "text/x-python",
   "name": "python",
   "nbconvert_exporter": "python",
   "pygments_lexer": "ipython3",
   "version": "3.13.0"
  }
 },
 "nbformat": 4,
 "nbformat_minor": 2
}
