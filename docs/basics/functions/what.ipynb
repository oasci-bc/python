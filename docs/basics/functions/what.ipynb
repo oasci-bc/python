{
 "cells": [
  {
   "cell_type": "markdown",
   "metadata": {},
   "source": [
    "# What Are Functions?\n",
    "\n",
    "In Python, functions are consolidated blocks of code designed to perform specific tasks.\n",
    "They allow you to break down complex problems into smaller, manageable parts that only do one thing.\n",
    "Functions are reusable, meaning you can call the same function multiple times with different inputs, which is especially useful in computational tasks.\n",
    "\n",
    "A **function**, by definition, is a named block of code that can accept input parameters, perform operations, and return a result.\n",
    "Think of it as a tool that takes some input, processes it, and provides an output."
   ]
  },
  {
   "cell_type": "markdown",
   "metadata": {},
   "source": [
    "## The def keyword\n",
    "\n",
    "In Python, every function starts with the special keyword `def`.\n",
    "This keyword tells Python \"I want to create a new function.\"\n",
    "\n",
    "Here's what it looks like:\n",
    "\n",
    "```python\n",
    "def\n",
    "```\n",
    "\n",
    "You'll never use `def` by itself - it's always the starting point for creating a function.\n",
    "Some languages use different keywords to create functions (like `function` in JavaScript), but Python keeps it short and simple with `def`.\n",
    "\n",
    "❌ Common Mistake:\n",
    "\n",
    "```python\n",
    "Define my_function():  # Wrong! Python won't understand this\n",
    "DEF my_function():     # Wrong! Must be lowercase\n",
    "```\n",
    "\n",
    "✅ Correct:\n",
    "\n",
    "```python\n",
    "def my_function():     # Correct! Always use 'def'\n",
    "```"
   ]
  },
  {
   "cell_type": "markdown",
   "metadata": {},
   "source": [
    "## Function names\n",
    "\n",
    "After the `def` keyword, we give our function a name.\n",
    "The name is crucial - it tells other programmers (and yourself!) what the function does.\n",
    "\n",
    "```python\n",
    "def calculate_area():  # The name describes exactly what this function does\n",
    "```\n",
    "\n",
    "Python has strict rules about function names:\n",
    "\n",
    "- Must start with a letter or underscore;\n",
    "- Can contain letters, numbers, and underscores;\n",
    "- Cannot use Python keywords (like `def`, `if`, `for`);\n",
    "- Case sensitive (`calculate_area` and `Calculate_Area` are different).\n",
    "\n",
    "Good function names clearly explain the function's purpose and often start with verbs.\n",
    "For example,\n",
    "\n",
    "```python\n",
    "def calculate_total():\n",
    "def convert_temperature():\n",
    "def get_user_name():\n",
    "def validate_email():\n",
    "```\n",
    "\n",
    "Functions should also be written in `snake_case`, which means all lowercase with underscores between words.\n",
    "\n",
    "```python\n",
    "def send_email():        # ✅ Good\n",
    "def SendEmail():         # ❌ Bad: Don't use CamelCase\n",
    "def sendemail():         # ❌ Bad: Hard to read\n",
    "```\n",
    "\n",
    "You want to avoid very vague, non-descriptive names as they are not helpful to communicate what the function does.\n",
    "\n",
    "```python\n",
    "def x():                  # ❌ Too vague\n",
    "def function1():          # ❌ Not descriptive\n",
    "def do_stuff():           # ❌ Unclear purpose\n",
    "def thisIsAFunction():    # ❌ Wrong convention\n",
    "```\n",
    "\n",
    "Think of your function name as a mini-description.\n",
    "When another programmer sees `calculate_monthly_interest()`, they immediately know what the function does without having to read its code."
   ]
  },
  {
   "cell_type": "markdown",
   "metadata": {},
   "source": [
    "## Parameters\n",
    "\n",
    "After the function name comes a pair of parentheses `()`.\n",
    "These parentheses are where we define our function's **parameters** - the inputs that the function expects to receive.\n",
    "\n",
    "```python\n",
    "def calculate_area(length, width):  # length and width are parameters\n",
    "```\n",
    "\n",
    "Parameters are like variables that get their values when someone uses your function.\n",
    "They:\n",
    "\n",
    "- Act as placeholders for the actual values;\n",
    "- Make your functions flexible and reusable;\n",
    "- Are listed inside the parentheses, separated by commas.\n",
    "\n",
    "Here are some examples with different numbers of parameters."
   ]
  },
  {
   "cell_type": "code",
   "execution_count": 8,
   "metadata": {},
   "outputs": [
    {
     "name": "stdout",
     "output_type": "stream",
     "text": [
      "Hello!\n",
      "Hello, Bob!\n",
      "Hello, Bob Smith!\n"
     ]
    }
   ],
   "source": [
    "def greet():\n",
    "    print(\"Hello!\")\n",
    "\n",
    "def greet_person(name):\n",
    "    print(\"Hello,\", name + \"!\")\n",
    "\n",
    "def greet_person_formally(first_name, last_name):\n",
    "    print(\"Hello,\", first_name, last_name + \"!\")\n",
    "\n",
    "greet()\n",
    "greet_person(\"Bob\")\n",
    "greet_person_formally(\"Bob\", \"Smith\")"
   ]
  },
  {
   "cell_type": "markdown",
   "metadata": {},
   "source": [
    "### Why parameters matter\n",
    "\n",
    "Compare these two versions of a greeting function."
   ]
  },
  {
   "cell_type": "code",
   "execution_count": 4,
   "metadata": {},
   "outputs": [
    {
     "name": "stdout",
     "output_type": "stream",
     "text": [
      "Hello, Bob!\n",
      "Hello, Alice!\n",
      "Hello, Bob!\n"
     ]
    }
   ],
   "source": [
    "# Without parameters (less useful)\n",
    "def greet_bob():\n",
    "    print(\"Hello, Bob!\")\n",
    "\n",
    "# With parameters (more flexible)\n",
    "def greet_anyone(name):\n",
    "    print(f\"Hello, {name}!\")\n",
    "\n",
    "greet_anyone(\"Bob\")\n",
    "greet_anyone(\"Alice\")\n",
    "greet_bob()"
   ]
  },
  {
   "cell_type": "markdown",
   "metadata": {},
   "source": [
    "### Parameter Naming\n",
    "\n",
    "Just like function names, parameters should be:\n",
    "\n",
    "- Descriptive of what they represent\n",
    "- Written in `snake_case`\n",
    "- Clear and meaningful\n",
    "\n",
    "```python\n",
    "# ✅ Good parameter names\n",
    "def calculate_circle_area(radius):\n",
    "def send_email(recipient, subject, message):\n",
    "\n",
    "# ❌ Poor parameter names\n",
    "def calculate_circle_area(x):\n",
    "def send_email(a, b, c):\n",
    "```"
   ]
  }
 ],
 "metadata": {
  "kernelspec": {
   "display_name": "default",
   "language": "python",
   "name": "python3"
  },
  "language_info": {
   "codemirror_mode": {
    "name": "ipython",
    "version": 3
   },
   "file_extension": ".py",
   "mimetype": "text/x-python",
   "name": "python",
   "nbconvert_exporter": "python",
   "pygments_lexer": "ipython3",
   "version": "3.13.0"
  }
 },
 "nbformat": 4,
 "nbformat_minor": 2
}
