{
 "cells": [
  {
   "cell_type": "markdown",
   "metadata": {},
   "source": [
    "# Calling functions\n",
    "\n",
    "After you define a function, you can use (or \"call\") it by writing its name followed by parentheses. If the function needs inputs, you provide them inside the parentheses."
   ]
  },
  {
   "cell_type": "code",
   "execution_count": null,
   "metadata": {},
   "outputs": [],
   "source": [
    "# Defining the functions\n",
    "def say_hello():\n",
    "    print(\"Hello!\")\n",
    "\n",
    "def greet(name):\n",
    "    print(f\"Hello, {name}!\")\n",
    "\n",
    "# Calling the functions\n",
    "say_hello()          # Prints: Hello!\n",
    "greet(\"Alice\")       # Prints: Hello, Alice!"
   ]
  },
  {
   "cell_type": "markdown",
   "metadata": {},
   "source": [
    "### Working with Return Values\n",
    "\n",
    "When a function returns a value, you can:\n",
    "\n",
    "- Store it in a variable\n",
    "- Use it directly in calculations\n",
    "- Pass it to other functions"
   ]
  },
  {
   "cell_type": "code",
   "execution_count": 9,
   "metadata": {},
   "outputs": [
    {
     "name": "stdout",
     "output_type": "stream",
     "text": [
      "12\n"
     ]
    }
   ],
   "source": [
    "def double(number):\n",
    "    return number * 2\n",
    "\n",
    "# Store the result\n",
    "result = double(5)\n",
    "\n",
    "# Use in calculation\n",
    "total = double(3) + double(4)\n",
    "\n",
    "# Pass to another function\n",
    "print(double(6))"
   ]
  },
  {
   "cell_type": "markdown",
   "metadata": {},
   "source": [
    "\n",
    "### Providing Arguments\n",
    "When calling a function, you need to provide the right number of arguments (inputs):\n",
    "```python\n",
    "def calculate_area(length, width):\n",
    "    return length * width\n",
    "\n",
    "# ✅ Correct: Two arguments for two parameters\n",
    "area = calculate_area(5, 3)      # area = 15\n",
    "\n",
    "# ❌ Wrong: Too few arguments\n",
    "area = calculate_area(5)         # Error!\n",
    "\n",
    "# ❌ Wrong: Too many arguments\n",
    "area = calculate_area(5, 3, 2)   # Error!\n",
    "```\n",
    "\n",
    "### Using Variables as Arguments\n",
    "\n",
    "You can pass variables as arguments:\n",
    "\n",
    "```python\n",
    "room_length = 10\n",
    "room_width = 8\n",
    "\n",
    "area = calculate_area(room_length, room_width)  # area = 80\n",
    "```\n",
    "\n",
    "### Function Calls Inside Other Calls\n",
    "\n",
    "Functions can be nested:\n",
    "\n",
    "```python\n",
    "def add_one(x):\n",
    "    return x + 1\n",
    "\n",
    "def multiply_by_two(x):\n",
    "    return x * 2\n",
    "\n",
    "# Nested function calls are evaluated from inside out\n",
    "result = multiply_by_two(add_one(5))  # First 5+1=6, then 6*2=12\n",
    "```"
   ]
  }
 ],
 "metadata": {
  "kernelspec": {
   "display_name": "default",
   "language": "python",
   "name": "python3"
  },
  "language_info": {
   "codemirror_mode": {
    "name": "ipython",
    "version": 3
   },
   "file_extension": ".py",
   "mimetype": "text/x-python",
   "name": "python",
   "nbconvert_exporter": "python",
   "pygments_lexer": "ipython3",
   "version": "3.13.0"
  }
 },
 "nbformat": 4,
 "nbformat_minor": 2
}
