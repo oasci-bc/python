{
 "cells": [
  {
   "cell_type": "markdown",
   "metadata": {},
   "source": [
    "# Variables\n",
    "\n",
    "In programming languages, variables play a crucial role as they serve as labels for storing and manipulating data.\n",
    "A variable is essentially a symbolic name or identifier associated with a memory location that holds a value.\n",
    "These values can be numbers, characters, strings, or more complex data structures.\n",
    "\n",
    "These are no different than variables in math.\n",
    "If I give you an equation $x + y$ and then tell you $x = 1$ and $y = 3$, you mentally put these numbers in the equation and get $1 + 3$.\n",
    "In fact, that is all valid Python!"
   ]
  },
  {
   "cell_type": "code",
   "execution_count": 1,
   "metadata": {},
   "outputs": [
    {
     "name": "stdout",
     "output_type": "stream",
     "text": [
      "4\n"
     ]
    }
   ],
   "source": [
    "x = 1\n",
    "y = 3\n",
    "print(x + y)"
   ]
  },
  {
   "cell_type": "markdown",
   "metadata": {},
   "source": [
    "This essentially is communicating to Python the same thing I was to you.\n",
    "You are saying: Hey Python, whenever you see `x` after this line, put 1 there. For `y`, put 3.\n",
    "\n",
    "However, you have to tell Python about `x` and `y` before you use them.\n",
    "Like I said before, [computers are dumb](/modules/intro/python-basics/arithmetic/#computers-are-dumb).\n",
    "If you tried to tell it about the equation `x + y` first, Python would panic because `x` and `y` don't exist yet.\n",
    "We will discuss this more [later](#declare-before-use)."
   ]
  }
 ],
 "metadata": {
  "kernelspec": {
   "display_name": "biosc1540-2024s-dev",
   "language": "python",
   "name": "python3"
  },
  "language_info": {
   "codemirror_mode": {
    "name": "ipython",
    "version": 3
   },
   "file_extension": ".py",
   "mimetype": "text/x-python",
   "name": "python",
   "nbconvert_exporter": "python",
   "pygments_lexer": "ipython3",
   "version": "3.11.7"
  }
 },
 "nbformat": 4,
 "nbformat_minor": 2
}
