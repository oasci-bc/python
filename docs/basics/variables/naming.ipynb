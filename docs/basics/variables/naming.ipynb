{
 "cells": [
  {
   "cell_type": "markdown",
   "metadata": {},
   "source": [
    "# Names\n",
    "\n",
    "Here are some guidelines for naming variables:\n",
    "\n",
    "-   Snake case is the most widely used convention for naming variables in Python.\n",
    "    It involves using lowercase letters and underscores to separate words.\n",
    "    For example: `my_variable`, `user_name`, `total_count`.\n",
    "-   Choose variable names that are descriptive and convey the purpose or content of the variable.\n",
    "    This makes the code more self-explanatory.\n",
    "    For instance, use `customer_name` instead of `cn` or `x`.\n",
    "-   Try to avoid single-letter variable names.\n",
    "    Exceptions include common conventions like `i`, `j`, and `k` for some numbers.\n",
    "-   If you have a variable that is meant to be a constant (i.e., its value should never change), use all uppercase letters with underscores separating words.\n",
    "    For example: `MAX_SIZE`, `PI`.\n",
    "\n",
    "[PEP 8](https://peps.python.org/pep-0008/) is the recommended style guide for Python code.\n",
    "There are some variations, but having everyone stick to a consistent style helps new developers get up to speed quicker.\n",
    "There are some formatters, like [black](https://black.readthedocs.io/en/stable/), that are widely used because the automatically format your code consistently."
   ]
  },
  {
   "cell_type": "markdown",
   "metadata": {},
   "source": [
    "## Case matters\n",
    "\n",
    "Python is a case-sensitive programming language, which means that it distinguishes between uppercase and lowercase letters.\n",
    "This applies not only to variable names but also to function names, class names, and other identifiers in your code."
   ]
  },
  {
   "cell_type": "code",
   "execution_count": 8,
   "metadata": {},
   "outputs": [
    {
     "name": "stdout",
     "output_type": "stream",
     "text": [
      "10\n",
      "20\n"
     ]
    }
   ],
   "source": [
    "my_variable = 10\n",
    "My_Variable = 20\n",
    "print(my_variable)\n",
    "print(My_Variable)"
   ]
  }
 ],
 "metadata": {
  "kernelspec": {
   "display_name": "biosc1540-2024s-dev",
   "language": "python",
   "name": "python3"
  },
  "language_info": {
   "codemirror_mode": {
    "name": "ipython",
    "version": 3
   },
   "file_extension": ".py",
   "mimetype": "text/x-python",
   "name": "python",
   "nbconvert_exporter": "python",
   "pygments_lexer": "ipython3",
   "version": "3.11.7"
  }
 },
 "nbformat": 4,
 "nbformat_minor": 2
}
