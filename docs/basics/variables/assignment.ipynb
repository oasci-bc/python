{
 "cells": [
  {
   "cell_type": "markdown",
   "metadata": {},
   "source": [
    "# Assignment\n",
    "\n",
    "In Python, an assignment operator is used to assign a value to a variable.\n",
    "The most common assignment operator is the equal sign `=`.\n",
    "It is important to note that the equal sign in the context of variable assignment is not a mathematical equality but rather an instruction to assign the value on the right-hand side to the variable on the left-hand side.\n",
    "\n",
    "When you use the assignment operator (`=`) to create a variable, Python reserves a space in memory to store the value associated with that variable."
   ]
  },
  {
   "cell_type": "code",
   "execution_count": 2,
   "metadata": {},
   "outputs": [],
   "source": [
    "class_mascot = \"duck\""
   ]
  },
  {
   "cell_type": "markdown",
   "metadata": {},
   "source": [
    "Let's walk through what is going on under the hood.\n",
    "\n",
    "### Memory allocation\n",
    "\n",
    "All data in your computer is stored either on your hard drive or in your Random Access Memory (RAM).\n",
    "These hardware components contain a massive amount of places to store data, each with a unique label so the computer can find it again.\n",
    "This label is called a memory address; for example, `0x6dfed4`, `0xki2zmb`, and `0xeg38d8` could be valid memory addresses.\n",
    "\n",
    "![](https://gitlab.com/oasci/courses/pitt/biosc1540-2024s/-/raw/main/biosc1540/img/computer/memory-address.svg)\n",
    "\n",
    "The first thing Python does, is try to find a drawer that is empty.\n",
    "Once it finds an empty drawer, Python will put the string `\"duck\"` inside this drawer with the memory address `0xeg38d8`.\n",
    "Python will now keep our mascot safe unless we specifically tell Python to remove or change what is inside this drawer.\n",
    "\n",
    "![](https://gitlab.com/oasci/courses/pitt/biosc1540-2024s/-/raw/main/biosc1540/img/computer/memory-allocation.svg)\n",
    "\n",
    "This is great!\n",
    "We stored our mascot in our memory and can check in on it by telling Python to go to the drawer with the memory address `0xeg38d8`.\n",
    "\n",
    "Wait, do I have to remember the memory address `0xeg38d8` each time I want to read our mascot a bedtime story?\n",
    "That would be annoying.\n",
    "Instead, we tell Python to give this memory address a name or label that I can remember, like `class_mascot`.\n",
    "\n",
    "![](https://gitlab.com/oasci/courses/pitt/biosc1540-2024s/-/raw/main/biosc1540/img/computer/var-label.svg)\n",
    "\n",
    "Now, I can tell Python to go get the data stored in `class_mascot`, and it would be there!\n"
   ]
  },
  {
   "cell_type": "code",
   "execution_count": 3,
   "metadata": {},
   "outputs": [
    {
     "name": "stdout",
     "output_type": "stream",
     "text": [
      "duck\n"
     ]
    }
   ],
   "source": [
    "print(class_mascot)"
   ]
  },
  {
   "cell_type": "markdown",
   "metadata": {},
   "source": [
    "Now, suppose that I proposed to change our class mascot."
   ]
  },
  {
   "cell_type": "code",
   "execution_count": 4,
   "metadata": {},
   "outputs": [],
   "source": [
    "class_mascot = \"penguin\""
   ]
  },
  {
   "cell_type": "markdown",
   "metadata": {},
   "source": [
    "Python will go to the memory address with the label `class_mascot`, remove `\"duck\"` and put `\"penguin\"`.\n",
    "\n",
    "![](https://gitlab.com/oasci/courses/pitt/biosc1540-2024s/-/raw/main/biosc1540/img/computer/reassign-value.svg)\n",
    "\n",
    "We have lost our beloved original mascot."
   ]
  },
  {
   "cell_type": "code",
   "execution_count": 5,
   "metadata": {},
   "outputs": [
    {
     "name": "stdout",
     "output_type": "stream",
     "text": [
      "penguin\n"
     ]
    }
   ],
   "source": [
    "print(class_mascot)"
   ]
  },
  {
   "cell_type": "markdown",
   "metadata": {},
   "source": [
    "<div class=\"admonition info\">\n",
    "    <p class=\"admonition-title\">Note</p>\n",
    "    <p style=\"padding-top: 1em\">\n",
    "        <r>Technically</b>, this is not entirely correct; however, it is a useful conceptual framework to understand the practical outcomes.\n",
    "    </p>\n",
    "</div>"
   ]
  },
  {
   "cell_type": "markdown",
   "metadata": {},
   "source": [
    "## Declare before use\n",
    "\n",
    "In Python, you need to explicitly declare and assign a value to a variable before you attempt to use it in your code.\n",
    "\n",
    "If you try to use a variable before it has been created, Python will raise an error.\n",
    "This includes attempting to use a variable name that hasn't been declared or has been misspelled.\n",
    "For example, if you tried\n",
    "\n",
    "```python\n",
    "print(other_example_number)\n",
    "```\n",
    "\n",
    "you would get `NameError: name 'other_example_number' is not defined`."
   ]
  },
  {
   "cell_type": "markdown",
   "metadata": {},
   "source": [
    "By enforcing the rule that variables must be created before they are used, Python helps catch potential errors early in the development process, promoting code clarity and preventing accidental use of undefined or misspelled variable names.\n",
    "\n",
    "<div class=\"admonition warning\">\n",
    "    <p class=\"admonition-title\">Warning</p>\n",
    "    <p style=\"padding-top: 1em\">\n",
    "        Be aware that it is the order of execution of cells that is important in a Jupyter notebook, not the order in which they appear.\n",
    "        Python will remember all the code that was run previously, including any variables you have defined, irrespective of the order in the notebook.\n",
    "        Therefore if you define variables lower down the notebook and then (re)run cells further up, those defined further down will still be present.\n",
    "    </p>\n",
    "</div>"
   ]
  }
 ],
 "metadata": {
  "kernelspec": {
   "display_name": "biosc1540-2024s-dev",
   "language": "python",
   "name": "python3"
  },
  "language_info": {
   "codemirror_mode": {
    "name": "ipython",
    "version": 3
   },
   "file_extension": ".py",
   "mimetype": "text/x-python",
   "name": "python",
   "nbconvert_exporter": "python",
   "pygments_lexer": "ipython3",
   "version": "3.11.7"
  }
 },
 "nbformat": 4,
 "nbformat_minor": 2
}
