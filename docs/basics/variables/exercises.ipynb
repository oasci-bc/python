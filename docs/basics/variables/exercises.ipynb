{
 "cells": [
  {
   "cell_type": "markdown",
   "metadata": {},
   "source": [
    "# 🏅 Exercises\n",
    "\n",
    "Here are some exercises you can do to practice.\n",
    "Open this document in Google Colab and write your Python code in the cells below."
   ]
  },
  {
   "cell_type": "markdown",
   "metadata": {},
   "source": [
    "### Temperature conversion\n",
    "\n",
    "Declare a variable named `celsius` with some temperature value.\n",
    "Convert this value into Fahrenheit using the formula\n",
    "\n",
    "$$\n",
    "\\left(\\frac{9}{5} \\cdot \\text{celsius} \\right) + 32\n",
    "$$\n",
    "\n",
    "and store the output into a variable called `fahrenheit` and print it."
   ]
  },
  {
   "cell_type": "code",
   "execution_count": null,
   "metadata": {},
   "outputs": [],
   "source": []
  },
  {
   "cell_type": "markdown",
   "metadata": {},
   "source": [
    "**Answer:** If `celsius` is 42, then `fahrenheit` should be 107.6."
   ]
  },
  {
   "cell_type": "markdown",
   "metadata": {},
   "source": [
    "### Swapping Values\n",
    "\n",
    "Declare two variables `a` and `b` and assign one as `5` and the other `8`.\n",
    "Swap the values of `a` and `b` without using a third variable."
   ]
  },
  {
   "cell_type": "code",
   "execution_count": null,
   "metadata": {},
   "outputs": [],
   "source": []
  },
  {
   "cell_type": "markdown",
   "metadata": {},
   "source": [
    "**Hint:** Think about how you can use arithmetic operations to manipulate the values of `a` and `b` in a way that allows you to swap them without using a third variable.\n",
    "Consider the properties of addition and subtraction."
   ]
  },
  {
   "cell_type": "markdown",
   "metadata": {},
   "source": [
    "### Increasing value\n",
    "\n",
    "Declare one variable `bank_account` and assign the value `1`.\n",
    "Next, add `325` to the this variable without creating any new variable."
   ]
  },
  {
   "cell_type": "code",
   "execution_count": null,
   "metadata": {},
   "outputs": [],
   "source": []
  },
  {
   "cell_type": "markdown",
   "metadata": {},
   "source": [
    "**Hint:** You can always go to a memory address, change the value, and then keep it there."
   ]
  }
 ],
 "metadata": {
  "kernelspec": {
   "display_name": "biosc1540-2024s-dev",
   "language": "python",
   "name": "python3"
  },
  "language_info": {
   "codemirror_mode": {
    "name": "ipython",
    "version": 3
   },
   "file_extension": ".py",
   "mimetype": "text/x-python",
   "name": "python",
   "nbconvert_exporter": "python",
   "pygments_lexer": "ipython3",
   "version": "3.11.7"
  }
 },
 "nbformat": 4,
 "nbformat_minor": 2
}
