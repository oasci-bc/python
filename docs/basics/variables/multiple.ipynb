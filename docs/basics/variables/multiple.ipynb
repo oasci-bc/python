{
 "cells": [
  {
   "cell_type": "markdown",
   "metadata": {},
   "source": [
    "# Multiple variables\n",
    "\n",
    "It's common for code to use multiple variables.\n",
    "This is especially useful when we have to do a long calculation with multiple inputs.\n",
    "In our conceptual framework, we put each value into it's own drawer.\n",
    "\n",
    "In the next code cell, we calculate the number of seconds in four years.\n",
    "This calculation uses five inputs."
   ]
  },
  {
   "cell_type": "code",
   "execution_count": 6,
   "metadata": {},
   "outputs": [
    {
     "name": "stdout",
     "output_type": "stream",
     "text": [
      "126144000\n"
     ]
    }
   ],
   "source": [
    "# Create variables\n",
    "num_years = 4\n",
    "days_per_year = 365\n",
    "hours_per_day = 24\n",
    "mins_per_hour = 60\n",
    "secs_per_min = 60\n",
    "\n",
    "# Calculate number of seconds in four years\n",
    "total_secs = secs_per_min * mins_per_hour * hours_per_day * days_per_year * num_years\n",
    "print(total_secs)"
   ]
  },
  {
   "cell_type": "markdown",
   "metadata": {},
   "source": [
    "As calculated above, there are `126144000` seconds in four years.\n",
    "\n",
    "Note it is possible to do this calculation without variables as just `60 * 60 * 24 * 365 * 4`, but it is much harder to check that the calculation without variables does not have some error, because it is not as readable.\n",
    "When we use variables (such as `num_years`, `days_per_year`, etc), we can better keep track of each part of the calculation and more easily check for and correct any mistakes.\n",
    "\n",
    "Note that it is particularly useful to use variables when the values of the inputs can change.\n",
    "For instance, say we want to slightly improve our estimate by updating the value of the number of days in a year from `365` to `365.25`, to account for leap years.\n",
    "Then we can change the value assigned to `days_per_year` without changing any of the other variables and redo the calculation.\n"
   ]
  },
  {
   "cell_type": "code",
   "execution_count": 7,
   "metadata": {},
   "outputs": [
    {
     "name": "stdout",
     "output_type": "stream",
     "text": [
      "126230400.0\n"
     ]
    }
   ],
   "source": [
    "# Update to include leap years\n",
    "days_per_year = 365.25\n",
    "\n",
    "# Calculate number of seconds in four years\n",
    "total_secs = secs_per_min * mins_per_hour * hours_per_day * days_per_year * num_years\n",
    "print(total_secs)"
   ]
  },
  {
   "cell_type": "markdown",
   "metadata": {},
   "source": [
    "**Note**: You might have noticed the .0 added at the end of the number, which might look unnecessary.\n",
    "This is caused by the fact that in the second calculation, we used a number with a fractional part (365.25), whereas the first calculation multiplied just numbers with no fractional part.\n",
    "You'll learn more about this in [data types](#data-types).\n"
   ]
  }
 ],
 "metadata": {
  "kernelspec": {
   "display_name": "biosc1540-2024s-dev",
   "language": "python",
   "name": "python3"
  },
  "language_info": {
   "codemirror_mode": {
    "name": "ipython",
    "version": 3
   },
   "file_extension": ".py",
   "mimetype": "text/x-python",
   "name": "python",
   "nbconvert_exporter": "python",
   "pygments_lexer": "ipython3",
   "version": "3.11.7"
  }
 },
 "nbformat": 4,
 "nbformat_minor": 2
}
