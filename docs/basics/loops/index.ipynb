{
 "cells": [
  {
   "cell_type": "markdown",
   "metadata": {},
   "source": [
    "# Loops\n",
    "\n",
    "At its core, loops in programming are structures that enable the computer to execute a specific set of instructions repeatedly.\n",
    "Imagine you have a list of tasks, and you want the computer to perform each task one after the other.\n",
    "Instead of writing the same set of instructions multiple times, you can use loops to automate the process.\n",
    "They allow you to efficiently repeat a block of code until a certain condition is met, making it a fundamental concept in programming."
   ]
  }
 ],
 "metadata": {
  "kernelspec": {
   "display_name": "biosc1540-2024s-dev",
   "language": "python",
   "name": "python3"
  },
  "language_info": {
   "codemirror_mode": {
    "name": "ipython",
    "version": 3
   },
   "file_extension": ".py",
   "mimetype": "text/x-python",
   "name": "python",
   "nbconvert_exporter": "python",
   "pygments_lexer": "ipython3",
   "version": "3.11.7"
  }
 },
 "nbformat": 4,
 "nbformat_minor": 2
}
