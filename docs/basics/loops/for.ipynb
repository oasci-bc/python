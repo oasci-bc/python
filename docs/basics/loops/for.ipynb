{
 "cells": [
  {
   "cell_type": "markdown",
   "metadata": {},
   "source": [
    "# for\n",
    "\n",
    "A fundamental concept in programming, the `for` loop allows us to efficiently execute a set of commands a certain number of times.\n",
    "Let's see how this works and then I'll explain it."
   ]
  },
  {
   "cell_type": "code",
   "execution_count": 3,
   "metadata": {},
   "outputs": [
    {
     "name": "stdout",
     "output_type": "stream",
     "text": [
      "0\n",
      "1\n",
      "2\n",
      "3\n",
      "4\n",
      "Done!\n"
     ]
    }
   ],
   "source": [
    "for i in range(5):\n",
    "    print(i)\n",
    "print(\"Done!\")"
   ]
  },
  {
   "cell_type": "markdown",
   "metadata": {},
   "source": [
    "Okay, so we have a few new things here.\n",
    "First, we have our standard `:` and then indent syntax; which makes sense because we need to tell Python what to repeat.\n",
    "We have seen the `range(5)` before, but `for i in` looks different.\n",
    "What happens if I just take out `i in`.\n",
    "\n",
    "```python\n",
    "for range(5)\n",
    "    print(\n",
    "```\n",
    "\n",
    "Wait, what do I put inside the print statement?\n",
    "I need a variable to put inside `print()`, and that is exactly what the `i in` part does.\n",
    "`for` will ask `range(5)` for a value, and then store it `in` `i`.\n",
    "I can then use `i` inside of my `for` loop.\n",
    "However, `for range(5) in i` does not read well, so we change its order to `for i in range(5)` to make it flow better."
   ]
  },
  {
   "cell_type": "markdown",
   "metadata": {},
   "source": [
    "Okay, do I have to use a generator in a `for` loop?\n",
    "Nope!\n",
    "You can use anything that `for` can ask for one value at a time, like in a list."
   ]
  },
  {
   "cell_type": "code",
   "execution_count": 4,
   "metadata": {},
   "outputs": [
    {
     "name": "stdout",
     "output_type": "stream",
     "text": [
      "red\n",
      "orange\n",
      "yellow\n",
      "green\n",
      "blue\n",
      "indigo\n",
      "violet\n"
     ]
    }
   ],
   "source": [
    "colors = [\"red\", \"orange\", \"yellow\", \"green\", \"blue\", \"indigo\", \"violet\"]\n",
    "\n",
    "for color in colors:\n",
    "    print(color)"
   ]
  },
  {
   "cell_type": "markdown",
   "metadata": {},
   "source": [
    "Remember, the `for` loop is asking the list for a value, storing it in a variable, and repeat.\n",
    "I do not necessarily have to name the variable `color`."
   ]
  },
  {
   "cell_type": "code",
   "execution_count": 5,
   "metadata": {},
   "outputs": [
    {
     "name": "stdout",
     "output_type": "stream",
     "text": [
      "red\n",
      "orange\n",
      "yellow\n",
      "green\n",
      "blue\n",
      "indigo\n",
      "violet\n"
     ]
    }
   ],
   "source": [
    "for onomatopoeia in colors:\n",
    "    print(onomatopoeia)"
   ]
  },
  {
   "cell_type": "markdown",
   "metadata": {},
   "source": [
    "I also do not technically use the `for` loop variable as well."
   ]
  },
  {
   "cell_type": "code",
   "execution_count": 6,
   "metadata": {},
   "outputs": [
    {
     "name": "stdout",
     "output_type": "stream",
     "text": [
      "Hellllloooooooo\n",
      "Hellllloooooooo\n",
      "Hellllloooooooo\n",
      "Hellllloooooooo\n",
      "Hellllloooooooo\n",
      "Hellllloooooooo\n",
      "Hellllloooooooo\n"
     ]
    }
   ],
   "source": [
    "for color in colors:\n",
    "    print(\"Hellllloooooooo\")"
   ]
  },
  {
   "cell_type": "markdown",
   "metadata": {},
   "source": [
    "Another common usage of `for` loop is to builds lists.\n",
    "For example, suppose you have a bunch of temperatures in Celsius that you want to convert to Fahrenheit."
   ]
  },
  {
   "cell_type": "code",
   "execution_count": 7,
   "metadata": {},
   "outputs": [],
   "source": [
    "celsius_temps = [0, 10, 20, 30, 40]"
   ]
  },
  {
   "cell_type": "markdown",
   "metadata": {},
   "source": [
    "We can use the formula to do just that.\n",
    "\n",
    "$$\n",
    "F = \\frac{9}{5} C + 32\n",
    "$$"
   ]
  },
  {
   "cell_type": "code",
   "execution_count": 8,
   "metadata": {},
   "outputs": [],
   "source": [
    "def celsius_to_fahrenheit(temp):\n",
    "    return (9 / 5) * temp + 32"
   ]
  },
  {
   "cell_type": "markdown",
   "metadata": {},
   "source": [
    "One valid&mdash;but tedious&mdash;way to do it is this."
   ]
  },
  {
   "cell_type": "code",
   "execution_count": 9,
   "metadata": {},
   "outputs": [
    {
     "name": "stdout",
     "output_type": "stream",
     "text": [
      "[32.0, 50.0, 68.0, 86.0, 104.0]\n"
     ]
    }
   ],
   "source": [
    "fahrenheit_temps = []\n",
    "fahrenheit_temps.append(celsius_to_fahrenheit(celsius_temps[0]))\n",
    "fahrenheit_temps.append(celsius_to_fahrenheit(celsius_temps[1]))\n",
    "fahrenheit_temps.append(celsius_to_fahrenheit(celsius_temps[2]))\n",
    "fahrenheit_temps.append(celsius_to_fahrenheit(celsius_temps[3]))\n",
    "fahrenheit_temps.append(celsius_to_fahrenheit(celsius_temps[4]))\n",
    "print(fahrenheit_temps)"
   ]
  },
  {
   "cell_type": "markdown",
   "metadata": {},
   "source": [
    "That's annoying.\n",
    "Instead, I can use a `for` loop!"
   ]
  },
  {
   "cell_type": "code",
   "execution_count": 10,
   "metadata": {},
   "outputs": [
    {
     "name": "stdout",
     "output_type": "stream",
     "text": [
      "[32.0, 50.0, 68.0, 86.0, 104.0]\n"
     ]
    }
   ],
   "source": [
    "fahrenheit_temps = []\n",
    "for temp in celsius_temps:\n",
    "    fahrenheit_temps.append(celsius_to_fahrenheit(temp))\n",
    "\n",
    "print(fahrenheit_temps)"
   ]
  },
  {
   "cell_type": "markdown",
   "metadata": {},
   "source": [
    "This framework is an extremely useful to to process or convert data."
   ]
  }
 ],
 "metadata": {
  "kernelspec": {
   "display_name": "biosc1540-2024s-dev",
   "language": "python",
   "name": "python3"
  },
  "language_info": {
   "codemirror_mode": {
    "name": "ipython",
    "version": 3
   },
   "file_extension": ".py",
   "mimetype": "text/x-python",
   "name": "python",
   "nbconvert_exporter": "python",
   "pygments_lexer": "ipython3",
   "version": "3.11.7"
  }
 },
 "nbformat": 4,
 "nbformat_minor": 2
}
