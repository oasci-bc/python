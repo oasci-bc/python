{
 "cells": [
  {
   "cell_type": "markdown",
   "metadata": {},
   "source": [
    "# range\n",
    "\n",
    "First, let's just write code that will print something five times.\n",
    "This is the perfect task for the `range` function in Python.\n",
    "`range` simply generates numbers from a starting point up to, but not including, the stopping point.\n",
    "You call it by providing `range(start, stop, step=1)`; thus, we should use `range(0, 5)`."
   ]
  },
  {
   "cell_type": "code",
   "execution_count": 1,
   "metadata": {},
   "outputs": [
    {
     "name": "stdout",
     "output_type": "stream",
     "text": [
      "[range(0, 5)]\n"
     ]
    }
   ],
   "source": [
    "print([range(0, 5)])"
   ]
  },
  {
   "cell_type": "markdown",
   "metadata": {},
   "source": [
    "Wait a second, that does not look right.\n",
    "I should have a list of numbers like this: `[0, 1, 2, 3, 4]`.\n",
    "This looks nothing like it.\n",
    "Normally we define a list with `[]`, but this does not seem to work.\n",
    "\n",
    "It turns out, `range` is a special type of function called a `generator`.\n",
    "These functions do not `return` one value, but they repeatedly `yield` one value at a time.\n",
    "For example, imagine you are building an Ikea table and have a friend to help you.\n",
    "Your friend is responsible for handing you the screws and you screw them in.\n",
    "If you asked your friend to `return` the screws, they would hand you all of the screws at once.\n",
    "If you asked your friend to `yield` the screws, they would hand you one screw at a time each time you asked.\n",
    "\n",
    "When we use `[range(0, 5)]`, Python just takes the `range(0, 5)` function and puts it into a list.\n",
    "It does not ask `range` to give it numbers.\n",
    "In actuality, we need to use `list()` instead.\n",
    "This function still creates a list, but it is designed to ask whatever is in between `()` to keep handing it values until it runs out.\n",
    "\n",
    "Also, we can leave out the `0` in our `range` call, as this is the default value."
   ]
  },
  {
   "cell_type": "code",
   "execution_count": 2,
   "metadata": {},
   "outputs": [
    {
     "name": "stdout",
     "output_type": "stream",
     "text": [
      "[0, 1, 2, 3, 4]\n"
     ]
    }
   ],
   "source": [
    "print(list(range(5)))"
   ]
  },
  {
   "cell_type": "markdown",
   "metadata": {},
   "source": [
    "That looks better!\n",
    "Now, let's just have Python print each number.\n",
    "We do this with a `for` loop."
   ]
  }
 ],
 "metadata": {
  "kernelspec": {
   "display_name": "biosc1540-2024s-dev",
   "language": "python",
   "name": "python3"
  },
  "language_info": {
   "codemirror_mode": {
    "name": "ipython",
    "version": 3
   },
   "file_extension": ".py",
   "mimetype": "text/x-python",
   "name": "python",
   "nbconvert_exporter": "python",
   "pygments_lexer": "ipython3",
   "version": "3.11.7"
  }
 },
 "nbformat": 4,
 "nbformat_minor": 2
}
