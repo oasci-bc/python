{
 "cells": [
  {
   "cell_type": "markdown",
   "metadata": {},
   "source": [
    "# Collections\n",
    "\n",
    "We previously introduced [data types](../data-types/) like `int`, `float`, and `bool`.\n",
    "However, these types can only represent single, simple values.\n",
    "When it comes to storing, accessing, and manipulating data, we often find that we need more flexible solutions.\n",
    "This is where collections come in.\n",
    "\n",
    "Collections allow us to work with groups of data.\n",
    "One analogy is to think of scalar types as single eggs, while collections are like egg cartons—structured collections that store multiple eggs together.\n",
    "This document will cover the core collection types: lists, tuples, and dictionaries.\n",
    "Each solves related but distinct needs."
   ]
  }
 ],
 "metadata": {
  "kernelspec": {
   "display_name": "biosc1540-2024s-dev",
   "language": "python",
   "name": "python3"
  },
  "language_info": {
   "codemirror_mode": {
    "name": "ipython",
    "version": 3
   },
   "file_extension": ".py",
   "mimetype": "text/x-python",
   "name": "python",
   "nbconvert_exporter": "python",
   "pygments_lexer": "ipython3",
   "version": "3.11.7"
  }
 },
 "nbformat": 4,
 "nbformat_minor": 2
}
