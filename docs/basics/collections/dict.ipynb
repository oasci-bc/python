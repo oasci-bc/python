{
 "cells": [
  {
   "cell_type": "markdown",
   "metadata": {},
   "source": [
    "# Dictionary\n",
    "\n",
    "Lists allow us to store ordered collections of data which can be flexibly accessed via indices.\n",
    "However, frequently we need an alternative access pattern&mdash;looking up values by a descriptive key rather than numerical index.\n",
    "This is enabled in Python using dictionaries.\n",
    "\n",
    "Dictionaries provide a flexible mapping of unique keys to associated values, like a real world dictionary maps words to definitions.\n",
    "Defining a dictionary uses braces with colons separating keys and values."
   ]
  },
  {
   "cell_type": "code",
   "execution_count": 18,
   "metadata": {},
   "outputs": [
    {
     "name": "stdout",
     "output_type": "stream",
     "text": [
      "{'color': 'blue', 'food': ['Chinese', 'Thai', 'American'], 'number': 32}\n"
     ]
    }
   ],
   "source": [
    "person_favorites = {\n",
    "    \"color\": \"blue\",\n",
    "    \"food\": [\"Chinese\", \"Thai\", \"American\"],\n",
    "    \"number\": 32,\n",
    "}\n",
    "print(person_favorites)"
   ]
  },
  {
   "cell_type": "markdown",
   "metadata": {},
   "source": [
    "Dictionaries have some key capabilities:\n",
    "\n",
    "-   Store mappings of objects to easy retrieval by descriptive keys;\n",
    "-   High performance lookup time even for large data sets;\n",
    "-   Keys can use many immutable types: strings, numbers, tuples;\n",
    "-   Values can be any Python object;\n",
    "-   Extensible structure allowing easy growth.\n"
   ]
  },
  {
   "cell_type": "code",
   "execution_count": 19,
   "metadata": {},
   "outputs": [
    {
     "name": "stdout",
     "output_type": "stream",
     "text": [
      "dict_keys(['color', 'food', 'number'])\n"
     ]
    }
   ],
   "source": [
    "print(person_favorites.keys())"
   ]
  },
  {
   "cell_type": "code",
   "execution_count": 20,
   "metadata": {},
   "outputs": [
    {
     "name": "stdout",
     "output_type": "stream",
     "text": [
      "blue\n",
      "['Chinese', 'Thai', 'American']\n",
      "32\n"
     ]
    }
   ],
   "source": [
    "print(person_favorites[\"color\"])\n",
    "print(person_favorites[\"food\"])\n",
    "print(person_favorites[\"number\"])"
   ]
  },
  {
   "cell_type": "code",
   "execution_count": 21,
   "metadata": {},
   "outputs": [
    {
     "name": "stdout",
     "output_type": "stream",
     "text": [
      "{'color': 'red', 'food': ['Chinese', 'Thai', 'American'], 'number': 32}\n"
     ]
    }
   ],
   "source": [
    "person_favorites[\"color\"] = \"red\"\n",
    "print(person_favorites)"
   ]
  },
  {
   "cell_type": "code",
   "execution_count": 22,
   "metadata": {},
   "outputs": [
    {
     "name": "stdout",
     "output_type": "stream",
     "text": [
      "{'color': 'red', 'food': ['Chinese', 'Thai', 'American'], 'number': 32, 'city': 'Pittsburgh'}\n"
     ]
    }
   ],
   "source": [
    "person_favorites[\"city\"] = \"Pittsburgh\"\n",
    "print(person_favorites)"
   ]
  },
  {
   "cell_type": "code",
   "execution_count": 23,
   "metadata": {},
   "outputs": [
    {
     "name": "stdout",
     "output_type": "stream",
     "text": [
      "{'color': 'red', 'food': ['Chinese', 'Thai', 'Italian'], 'number': 32, 'city': 'Pittsburgh'}\n"
     ]
    }
   ],
   "source": [
    "person_favorites[\"food\"][2] = \"Italian\"\n",
    "print(person_favorites)"
   ]
  }
 ],
 "metadata": {
  "kernelspec": {
   "display_name": "biosc1540-2024s-dev",
   "language": "python",
   "name": "python3"
  },
  "language_info": {
   "codemirror_mode": {
    "name": "ipython",
    "version": 3
   },
   "file_extension": ".py",
   "mimetype": "text/x-python",
   "name": "python",
   "nbconvert_exporter": "python",
   "pygments_lexer": "ipython3",
   "version": "3.11.7"
  }
 },
 "nbformat": 4,
 "nbformat_minor": 2
}
