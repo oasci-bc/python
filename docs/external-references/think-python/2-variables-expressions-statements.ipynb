{
 "cells": [
  {
   "cell_type": "markdown",
   "metadata": {},
   "source": [
    "# 2 Variables, expressions and statements\n",
    "\n",
    "One of the most powerful features of a programming language is the ability to manipulate variables.\n",
    "A variable is a name that refers to a value.\n",
    "\n",
    "## 2.1  Assignment statements\n",
    "\n",
    "An assignment statement creates a new variable and gives it a value:\n"
   ]
  },
  {
   "cell_type": "code",
   "execution_count": null,
   "metadata": {
    "vscode": {
     "languageId": "plaintext"
    }
   },
   "outputs": [],
   "source": [
    "message = \"And now for something completely different\"\n",
    "n = 17\n",
    "pi = 3.1415926535897932"
   ]
  },
  {
   "cell_type": "markdown",
   "metadata": {},
   "source": [
    "This example makes three assignments.\n",
    "The first assigns a string to a new variable named `message`; the second gives the integer `17` to `n`; the third assigns the (approximate) value of π to `pi`.\n",
    "\n",
    "A common way to represent variables on paper is to write the name with an arrow pointing to its value.\n",
    "This kind of figure is called a state diagram because it shows what state each of the variables is in (think of it as the variable’s state of mind).\n",
    "Figure 2.1 shows the result of the previous example.\n",
    "\n",
    "``` mermaid\n",
    "%%{init: {'theme': 'default'}}%%\n",
    "stateDiagram-v2\n",
    "    direction LR\n",
    "\n",
    "    message --> A\n",
    "    n --> 17\n",
    "    pi --> 3.1415926535897932\n",
    "\n",
    "    A : 'And now for something completely different'\n",
    "```"
   ]
  },
  {
   "cell_type": "markdown",
   "metadata": {},
   "source": [
    "## 2.2  Variable names\n",
    "\n",
    "Programmers generally choose names for their variables that are meaningful—they document what the variable is used for.\n",
    "\n",
    "Variable names can be as long as you like.\n",
    "They can contain both letters and numbers, but they can’t begin with a number.\n",
    "It is legal to use uppercase letters, but it is conventional to use only lower case for variables names.\n",
    "\n",
    "The underscore character, `_`, can appear in a name.\n",
    "It is often used in names with multiple words, such as `your_name` or `airspeed_of_unladen_swallow`.\n",
    "\n",
    "If you give a variable an illegal name, you get a syntax error:"
   ]
  },
  {
   "cell_type": "code",
   "execution_count": null,
   "metadata": {
    "vscode": {
     "languageId": "plaintext"
    }
   },
   "outputs": [],
   "source": [
    "76trombones = 'big parade'"
   ]
  },
  {
   "cell_type": "code",
   "execution_count": null,
   "metadata": {
    "vscode": {
     "languageId": "plaintext"
    }
   },
   "outputs": [],
   "source": [
    "more@ = 1000000"
   ]
  },
  {
   "cell_type": "code",
   "execution_count": null,
   "metadata": {
    "vscode": {
     "languageId": "plaintext"
    }
   },
   "outputs": [],
   "source": [
    "class = 'Advanced Theoretical Zymurgy'"
   ]
  },
  {
   "cell_type": "markdown",
   "metadata": {},
   "source": [
    "`76trombones` is illegal because it begins with a number.\n",
    "`more@` is illegal because it contains an illegal character, `@`.\n",
    "But what’s wrong with `class`?\n",
    "\n",
    "It turns out that `class` is one of Python’s keywords.\n",
    "The interpreter uses keywords to recognize the structure of the program, and they cannot be used as variable names. \n",
    "\n",
    "Python 3 has these keywords:\n",
    "\n",
    "- `False`, `class`, `finally`, `is`, `return`, `None`, `continue`, `for`, `lambda`, `try`, `True`, `def`, `from`, `nonlocal`, `while`, `and`, `del`, `global`, `not`, `with`, `as`, `elif`, `if`, `or`, `yield`, `assert`, `else`, `import`, `pass`, `break`, `except`, `in`, `raise`.\n",
    "\n",
    "You don’t have to memorize this list.\n",
    "In most development environments, keywords are displayed in a different color; if you try to use one as a variable name, you’ll know."
   ]
  },
  {
   "cell_type": "markdown",
   "metadata": {},
   "source": [
    "## 2.3  Expressions and statements\n",
    "\n",
    "An expression is a combination of values, variables, and operators.\n",
    "A value all by itself is considered an expression, and so is a variable, so the following are all legal expressions: "
   ]
  },
  {
   "cell_type": "code",
   "execution_count": null,
   "metadata": {
    "vscode": {
     "languageId": "plaintext"
    }
   },
   "outputs": [],
   "source": [
    "42"
   ]
  },
  {
   "cell_type": "code",
   "execution_count": null,
   "metadata": {
    "vscode": {
     "languageId": "plaintext"
    }
   },
   "outputs": [],
   "source": [
    "n"
   ]
  },
  {
   "cell_type": "code",
   "execution_count": null,
   "metadata": {
    "vscode": {
     "languageId": "plaintext"
    }
   },
   "outputs": [],
   "source": [
    "n + 25"
   ]
  },
  {
   "cell_type": "markdown",
   "metadata": {},
   "source": [
    "When you type an expression at the prompt, the interpreter evaluates it, which means that it finds the value of the expression.\n",
    "In this example, `n` has the value `17` and `n + 25` has the value `42`.\n",
    "\n",
    "A statement is a unit of code that has an effect, like creating a variable or displaying a value. "
   ]
  },
  {
   "cell_type": "code",
   "execution_count": null,
   "metadata": {
    "vscode": {
     "languageId": "plaintext"
    }
   },
   "outputs": [],
   "source": [
    "n = 17\n",
    "print(n)"
   ]
  },
  {
   "cell_type": "markdown",
   "metadata": {},
   "source": [
    "The first line is an assignment statement that gives a value to `n`.\n",
    "The second line is a print statement that displays the value of `n`.\n",
    "\n",
    "When you type a statement, the interpreter executes it, which means that it does whatever the statement says.\n",
    "In general, statements don’t have values. "
   ]
  },
  {
   "cell_type": "markdown",
   "metadata": {},
   "source": [
    "## 2.4  Script mode\n",
    "\n",
    "So far we have run Python in interactive mode, which means that you interact directly with the interpreter.\n",
    "Interactive mode is a good way to get started, but if you are working with more than a few lines of code, it can be clumsy.\n",
    "\n",
    "The alternative is to save code in a file called a script and then run the interpreter in script mode to execute the script.\n",
    "By convention, Python scripts have names that end with `.py`.\n",
    "\n",
    "If you know how to create and run a script on your computer, you are ready to go.\n",
    "Otherwise I recommend using Google Colab.\n",
    "\n",
    "Because Python provides both modes, you can test bits of code in interactive mode before you put them in a script.\n",
    "But there are differences between interactive mode and script mode that can be confusing.\n",
    "\n",
    "For example, if you are using Python as a calculator, you might type"
   ]
  },
  {
   "cell_type": "code",
   "execution_count": null,
   "metadata": {
    "vscode": {
     "languageId": "plaintext"
    }
   },
   "outputs": [],
   "source": [
    "miles = 26.2\n",
    "miles * 1.61"
   ]
  },
  {
   "cell_type": "markdown",
   "metadata": {},
   "source": [
    "The first line assigns a value to `miles`, but it has no visible effect.\n",
    "The second line is an expression, so the interpreter evaluates it and displays the result.\n",
    "It turns out that a marathon is about 42 kilometers.\n",
    "\n",
    "But if you type the same code into a script and run it, you get no output at all.\n",
    "In script mode an expression, all by itself, has no visible effect.\n",
    "Python evaluates the expression, but it doesn’t display the result. To display the result, you need a print statement like this:"
   ]
  },
  {
   "cell_type": "code",
   "execution_count": null,
   "metadata": {
    "vscode": {
     "languageId": "plaintext"
    }
   },
   "outputs": [],
   "source": [
    "miles = 26.2\n",
    "print(miles * 1.61)"
   ]
  },
  {
   "cell_type": "markdown",
   "metadata": {},
   "source": [
    "This behavior can be confusing at first.\n",
    "To check your understanding, type the following statements in the Python interpreter and see what they do:\n",
    "\n",
    "```python\n",
    "5\n",
    "x = 5\n",
    "x + 1\n",
    "```\n",
    "\n",
    "Now put the same statements in a script and run it.\n",
    "What is the output?\n",
    "Modify the script by transforming each expression into a print statement and then run it again."
   ]
  },
  {
   "cell_type": "markdown",
   "metadata": {},
   "source": [
    "## 2.5  Order of operations\n",
    "\n",
    "When an expression contains more than one operator, the order of evaluation depends on the order of operations.\n",
    "For mathematical operators, Python follows mathematical convention. The acronym PEMDAS is a useful way to remember the rules:\n",
    "\n",
    "- Parentheses have the highest precedence and can be used to force an expression to evaluate in the order you want.\n",
    "    Since expressions in parentheses are evaluated first, `2 * (3-1)` is `4`, and `(1+1)**(5-2)` is `8`.\n",
    "    You can also use parentheses to make an expression easier to read, as in `(minute * 100) / 60`, even if it doesn’t change the result.\n",
    "- Exponentiation has the next highest precedence, so `1 + 2**3` is `9`, not `27`, and `2 * 3**2` is `18`, not `36`.\n",
    "- Multiplication and Division have higher precedence than Addition and Subtraction.\n",
    "    So `2*3-1` is `5`, not `4`, and `6+4/2` is `8`, not `5`.\n",
    "- Operators with the same precedence are evaluated from left to right (except exponentiation).\n",
    "    So in the expression `degrees / 2 * pi`, the division happens first and the result is multiplied by `pi`.\n",
    "    To divide by `2 π`, you can use parentheses or write `degrees / 2 / pi`.\n",
    "\n",
    "I don’t work very hard to remember the precedence of operators.\n",
    "If I can’t tell by looking at the expression, I use parentheses to make it obvious."
   ]
  },
  {
   "cell_type": "markdown",
   "metadata": {},
   "source": [
    "## 2.6  String operations\n",
    "\n",
    "In general, you can’t perform mathematical operations on strings, even if the strings look like numbers, so the following are illegal:\n",
    "\n",
    "- `'chinese'-'food'`\n",
    "- `'eggs'/'easy'`\n",
    "- `'third'*'a charm'`\n",
    "\n",
    "But there are two exceptions, `+` and `*`.\n",
    "\n",
    "The `+` operator performs string concatenation, which means it joins the strings by linking them end-to-end.\n",
    "For example: "
   ]
  },
  {
   "cell_type": "code",
   "execution_count": null,
   "metadata": {
    "vscode": {
     "languageId": "plaintext"
    }
   },
   "outputs": [],
   "source": [
    "first = 'throat'\n",
    "second = 'warbler'\n",
    "first + second"
   ]
  },
  {
   "cell_type": "markdown",
   "metadata": {},
   "source": [
    "The `*` operator also works on strings; it performs repetition.\n",
    "For example, `'Spam'*3` is `'SpamSpamSpam'`.\n",
    "If one of the values is a string, the other has to be an integer.\n",
    "\n",
    "This use of `+` and `*` makes sense by analogy with addition and multiplication.\n",
    "Just as `4*3` is equivalent to `4+4+4`, we expect `'Spam'*3` to be the same as `'Spam'+'Spam'+'Spam'`, and it is.\n",
    "On the other hand, there is a significant way in which string concatenation and repetition are different from integer addition and multiplication.\n",
    "Can you think of a property that addition has that string concatenation does not? "
   ]
  },
  {
   "cell_type": "markdown",
   "metadata": {},
   "source": [
    "## 2.7  Comments\n",
    "\n",
    "As programs get bigger and more complicated, they get more difficult to read.\n",
    "Formal languages are dense, and it is often difficult to look at a piece of code and figure out what it is doing, or why.\n",
    "\n",
    "For this reason, it is a good idea to add notes to your programs to explain in natural language what the program is doing.\n",
    "These notes are called comments, and they start with the `#` symbol:\n",
    "\n",
    "```python\n",
    "# compute the percentage of the hour that has elapsed\n",
    "percentage = (minute * 100) / 60\n",
    "```"
   ]
  },
  {
   "cell_type": "markdown",
   "metadata": {},
   "source": [
    "In this case, the comment appears on a line by itself.\n",
    "You can also put comments at the end of a line:\n",
    "\n",
    "```python\n",
    "percentage = (minute * 100) / 60  # percentage of an hour\n",
    "```"
   ]
  },
  {
   "cell_type": "markdown",
   "metadata": {},
   "source": [
    "Everything from the `#` to the end of the line is ignored—it has no effect on the execution of the program.\n",
    "\n",
    "Comments are most useful when they document non-obvious features of the code.\n",
    "It is reasonable to assume that the reader can figure out what the code does; it is more useful to explain why.\n",
    "\n",
    "This comment is redundant with the code and useless:"
   ]
  },
  {
   "cell_type": "code",
   "execution_count": null,
   "metadata": {
    "vscode": {
     "languageId": "plaintext"
    }
   },
   "outputs": [],
   "source": [
    "v = 5  # assign 5 to v"
   ]
  },
  {
   "cell_type": "markdown",
   "metadata": {},
   "source": [
    "This comment contains useful information that is not in the code:"
   ]
  },
  {
   "cell_type": "code",
   "execution_count": null,
   "metadata": {
    "vscode": {
     "languageId": "plaintext"
    }
   },
   "outputs": [],
   "source": [
    "v = 5  # velocity in meters/second. "
   ]
  },
  {
   "cell_type": "markdown",
   "metadata": {},
   "source": [
    "Good variable names can reduce the need for comments, but long names can make complex expressions hard to read, so there is a tradeoff."
   ]
  },
  {
   "cell_type": "markdown",
   "metadata": {},
   "source": [
    "## 2.8  Debugging\n",
    "\n",
    "Three kinds of errors can occur in a program: syntax errors, runtime errors, and semantic errors. It is useful to distinguish between them in order to track them down more quickly.\n",
    "\n",
    "Syntax error\n",
    "\n",
    "> “Syntax” refers to the structure of a program and the rules about that structure.\n",
    "> For example, parentheses have to come in matching pairs, so `(1 + 2)` is legal, but `8)` is a syntax error.\n",
    ">\n",
    "> If there is a syntax error anywhere in your program, Python displays an error message and quits, and you will not be able to run the program.\n",
    "> During the first few weeks of your programming career, you might spend a lot of time tracking down syntax errors.\n",
    "> As you gain experience, you will make fewer errors and find them faster.\n",
    "\n",
    "Runtime error\n",
    "\n",
    "> The second type of error is a runtime error, so called because the error does not appear until after the program has started running.\n",
    "> These errors are also called exceptions because they usually indicate that something exceptional (and bad) has happened.\n",
    ">\n",
    "> Runtime errors are rare in the simple programs you will see in the first few chapters, so it might be a while before you encounter one.\n",
    "\n",
    "Semantic error\n",
    "\n",
    "> The third type of error is “semantic”, which means related to meaning.\n",
    "> If there is a semantic error in your program, it will run without generating error messages, but it will not do the right thing.\n",
    "> It will do something else. Specifically, it will do what you told it to do.\n",
    ">\n",
    "> Identifying semantic errors can be tricky because it requires you to work backward by looking at the output of the program and trying to figure out what it is doing."
   ]
  },
  {
   "cell_type": "markdown",
   "metadata": {},
   "source": [
    "2.9  Glossary\n",
    "\n",
    "- **variable:** A name that refers to a value. \n",
    "- **assignment:** A statement that assigns a value to a variable. \n",
    "- **state diagram:** A graphical representation of a set of variables and the values they refer to. \n",
    "- **keyword:** A reserved word that is used to parse a program; you cannot use keywords like if, def, and while as variable names. \n",
    "- **operand:** One of the values on which an operator operates. \n",
    "- **expression:** A combination of variables, operators, and values that represents a single result. \n",
    "- **evaluate:** To simplify an expression by performing the operations in order to yield a single value.\n",
    "- **statement:** A section of code that represents a command or action. So far, the statements we have seen are assignments and print statements. \n",
    "- **execute:** To run a statement and do what it says. \n",
    "- **interactive mode:** A way of using the Python interpreter by typing code at the prompt. \n",
    "- **script mode:** A way of using the Python interpreter to read code from a script and run it. \n",
    "- **script:** A program stored in a file. \n",
    "- **order of operations:** Rules governing the order in which expressions involving multiple operators and operands are evaluated. \n",
    "- **concatenate:** To join two operands end-to-end. \n",
    "- **comment:** Information in a program that is meant for other programmers (or anyone reading the source code) and has no effect on the execution of the program. \n",
    "- **syntax error:** An error in a program that makes it impossible to parse (and therefore impossible to interpret). \n",
    "- **exception:** An error that is detected while the program is running. \n",
    "- **semantics:** The meaning of a program. \n",
    "- **semantic error:** An error in a program that makes it do something other than what the programmer intended. "
   ]
  },
  {
   "cell_type": "markdown",
   "metadata": {},
   "source": [
    "## 2.10  Exercises\n",
    "\n",
    "### Exercise 1  \n",
    "\n",
    "Repeating my advice from the previous chapter, whenever you learn a new feature, you should try it out in interactive mode and make errors on purpose to see what goes wrong.\n",
    "\n",
    "- We’ve seen that `n = 42` is legal. What about `42 = n`?\n",
    "- How about `x = y = 1`?\n",
    "- In some languages every statement ends with a semi-colon, `;`.\n",
    "    What happens if you put a semi-colon at the end of a Python statement?\n",
    "- What if you put a period at the end of a statement?\n",
    "- In math notation you can multiply `x` and `y` like this: `x y`. What happens if you try that in Python?\n",
    "\n",
    "### Exercise 2  \n",
    "\n",
    "Practice using the Python interpreter as a calculator:\n",
    "\n",
    "- The volume of a sphere with radius $r$ is $4/3 \\pi r^3$.\n",
    "    What is the volume of a sphere with radius `5`?\n",
    "- Suppose the cover price of a book is \\\\$24.95, but bookstores get a 40\\% discount.\n",
    "    Shipping costs \\\\$3 for the first copy and 75 cents for each additional copy.\n",
    "    What is the total wholesale cost for 60 copies?\n",
    "- If I leave my house at 6:52 am and run 1 mile at an easy pace (8:15 per mile), then 3 miles at tempo (7:12 per mile) and 1 mile at easy pace again, what time do I get home for breakfast? "
   ]
  }
 ],
 "metadata": {
  "kernelspec": {
   "display_name": "biosc1630-2023-fall",
   "language": "python",
   "name": "python3"
  },
  "language_info": {
   "codemirror_mode": {
    "name": "ipython",
    "version": 3
   },
   "file_extension": ".py",
   "mimetype": "text/x-python",
   "name": "python",
   "nbconvert_exporter": "python",
   "pygments_lexer": "ipython3",
   "version": "3.11.5"
  },
  "orig_nbformat": 4
 },
 "nbformat": 4,
 "nbformat_minor": 2
}
