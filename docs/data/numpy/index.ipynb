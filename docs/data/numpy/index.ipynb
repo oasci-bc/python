{
 "cells": [
  {
   "cell_type": "markdown",
   "metadata": {},
   "source": [
    "# NumPy\n",
    "\n",
    "NumPy is a Python library used for working with arrays.\n",
    "It provides support for large, multi-dimensional arrays and matrices, along with a large collection of high-level mathematical functions to operate on these arrays.\n",
    "NumPy is a fundamental package for scientific computing with Python and is widely used in the field of data science.\n",
    "\n",
    "NumPy is particularly well-suited for numerical computations, as it provides an array object that is up to 50x faster than traditional Python lists.\n",
    "The array object in NumPy is called ndarray, and it provides a lot of supporting functions that make working with ndarray very easy.\n",
    "Arrays are very frequently used in data science, where speed and resources are very important.\n",
    "\n",
    "One of the most important features of NumPy is its ability to perform element-wise operations on arrays.\n",
    "This means that you can perform mathematical operations on entire arrays at once, without having to loop over each element of the array.\n",
    "NumPy also provides support for linear algebra, Fourier transforms, and other advanced mathematical functions, making it a powerful tool for scientific computing.\n",
    "\n",
    "Key resources:\n",
    "\n",
    "-   [NumPy documentation](https://numpy.org/doc/stable)\n",
    "-   [NumPy learn](https://numpy.org/learn/)\n",
    "-   [Real Python](https://realpython.com/numpy-tutorial/)\n",
    "-   [Scientific Python Lectures](https://lectures.scientific-python.org/intro/numpy/index.html)\n",
    "\n",
    "<div class=\"admonition note\">\n",
    "    <p class=\"admonition-title\">Note</p>\n",
    "    <p style=\"padding-top: 1em\">\n",
    "        There are some cells that I am intentionally hiding the code.\n",
    "        This is to ensure you are able to pay attention to the key parts.\n",
    "        If you ever see data where you cannot see where I got it from, that part is probably hidden.\n",
    "    </p>\n",
    "</div>\n"
   ]
  }
 ],
 "metadata": {
  "kernelspec": {
   "display_name": "biosc1540-2024s-dev",
   "language": "python",
   "name": "python3"
  },
  "language_info": {
   "codemirror_mode": {
    "name": "ipython",
    "version": 3
   },
   "file_extension": ".py",
   "mimetype": "text/x-python",
   "name": "python",
   "nbconvert_exporter": "python",
   "pygments_lexer": "ipython3",
   "version": "3.11.7"
  }
 },
 "nbformat": 4,
 "nbformat_minor": 2
}
