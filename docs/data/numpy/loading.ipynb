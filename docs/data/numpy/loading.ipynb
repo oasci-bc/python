{
 "cells": [
  {
   "cell_type": "markdown",
   "metadata": {},
   "source": [
    "# Loading\n",
    "\n",
    "In the vast majority of cases we will not be generating data, but loading it from somewhere else.\n",
    "We use the [`np.load`](https://numpy.org/doc/stable/reference/generated/numpy.load.html) function to put data stored in a `.npy` or `.npz` file into a variable.\n",
    "\n",
    "Usually you have the NumPy array stored on your computer; however, to make your life easier I host our data sets online so you can download them whenever.\n",
    "In this example, I have [`protein-contact-maps.npy`](https://gitlab.com/oasci/courses/pitt/biosc1540-2024s/-/blob/main/biosc1540/files/npy/protein-contact-maps.npy?ref_type=heads) which stores 500 protein contact maps.\n",
    "\n",
    "<div class=\"admonition note\">\n",
    "    <p class=\"admonition-title\">Note</p>\n",
    "    <p style=\"padding-top: 1em\">\n",
    "        A protein contact map is a graphical representation that illustrates spatial proximity between amino acid residues in a protein structure.\n",
    "        It is commonly used in structural bioinformatics to visualize and analyze the interactions and relationships between different parts of a protein.\n",
    "    </p>\n",
    "</div>\n",
    "\n",
    "If you had this file on your computer, you can simply specify the local file path.\n",
    "\n",
    "```python\n",
    "np.load(\"protein-contact-maps.npy\")\n",
    "```\n",
    "\n",
    "To get this array automatically in Python, we have to use the `urllib.request` module to request the data, then convert it into a format NumPy can read.\n",
    "You do not need to know how this works for this course, but I just want you to know what is going on when you see code from me like this in the future."
   ]
  },
  {
   "cell_type": "code",
   "execution_count": 35,
   "metadata": {},
   "outputs": [
    {
     "name": "stdout",
     "output_type": "stream",
     "text": [
      "3\n",
      "(500, 16, 16)\n",
      "[ 0.          3.83347011  6.93431997  9.98147011 12.15553474 10.16739845\n",
      "  9.63760185 13.3811655  14.22265434 12.16785812 11.25229836 13.22015572\n",
      " 14.96301937 17.38097    19.78103447 22.77887917]\n"
     ]
    }
   ],
   "source": [
    "import io\n",
    "from urllib import request\n",
    "\n",
    "npy_file_url = \"https://github.com/oasci-bc/python/raw/refs/heads/main/docs/files/npy/steamboat-willie.npy\"\n",
    "\n",
    "# Download the .npy file\n",
    "response = request.urlopen(npy_file_url)\n",
    "content = response.read()\n",
    "\n",
    "# Load the .npy file\n",
    "contact_maps = np.load(io.BytesIO(content))\n",
    "\n",
    "# Print information from the array.\n",
    "print(contact_maps.ndim)\n",
    "print(contact_maps.shape)\n",
    "print(contact_maps[0][0])"
   ]
  },
  {
   "cell_type": "markdown",
   "metadata": {},
   "source": [
    "The line `from urllib import request` imports the request module from the `urllib` package in Python.\n",
    "Specifically, it imports the `request` module from the `urllib` library, which provides functions for opening and reading URLs.\n"
   ]
  }
 ],
 "metadata": {
  "kernelspec": {
   "display_name": "biosc1540-2024s-dev",
   "language": "python",
   "name": "python3"
  },
  "language_info": {
   "codemirror_mode": {
    "name": "ipython",
    "version": 3
   },
   "file_extension": ".py",
   "mimetype": "text/x-python",
   "name": "python",
   "nbconvert_exporter": "python",
   "pygments_lexer": "ipython3",
   "version": "3.11.7"
  }
 },
 "nbformat": 4,
 "nbformat_minor": 2
}
