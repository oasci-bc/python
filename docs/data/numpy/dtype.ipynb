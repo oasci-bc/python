{
 "cells": [
  {
   "cell_type": "markdown",
   "metadata": {},
   "source": [
    "# Data types\n",
    "\n",
    "[ndarray.dtype](https://numpy.org/doc/stable/reference/generated/numpy.ndarray.dtype.html): the data type of an array.\n",
    "\n",
    "One crucial difference in ndarray versus lists is that a ndarray can only contain one data type.\n",
    "Elements must be all floats, ints, strings, bools, etc.\n",
    "This is because NumPy is heavily focused on performance, and enforcing this rule let's them design blazing fast algorithms.\n"
   ]
  },
  {
   "cell_type": "markdown",
   "metadata": {},
   "source": [
    "What are all of the data types?\n",
    "\n",
    "<div class=\"admonition note\">\n",
    "    <p class=\"admonition-title\">Note</p>\n",
    "    <p style=\"padding-top: 1em\">\n",
    "        All of these data types are attributes of NumPy.\n",
    "        For example, to use <code>int8</code> you could specify \"int8\" as <code>dtype</code> or <code>np.int8</code>.\n",
    "    </p>\n",
    "</div>\n",
    "\n",
    "#### Integers\n",
    "\n",
    "| Type | Alias | Description |\n",
    "| ---- | ----- | ----------- |\n",
    "| `int8` | `i1` | An 8-bit signed integer whose values exist on the interval `[-128, +127]`. |\n",
    "| `int16` | `i2` | A 16-bit signed integer whose values exist on the interval `[−32,767, +32,767]`. |\n",
    "| `int32` | `i4` | A 32-bit signed integer whose values exist on the interval `[−2,147,483,647, +2,147,483,647]`. |\n",
    "| `int64` | `i8` | A 64-bit signed integer whose values exist on the interval `[−9,223,372,036,854,775,807, +9,223,372,036,854,775,807]`. |\n",
    "\n",
    "| Type | Alias | Description |\n",
    "| ---- | ----- | ----------- |\n",
    "| `uint8` | `u1` | An 8-bit unsigned integer whose values exist on the interval `[0, +255]`. |\n",
    "| `uint16` | `u2` | A 16-bit unsigned integer whose values exist on the interval `[0, +65,535]`. |\n",
    "| `uint32` | `u4` | A 32-bit unsigned integer whose values exist on the interval `[0, +4,294,967,295]`. |\n",
    "| `uint64` | `u8` | A 64-bit unsigned integer whose values exist on the interval `[0, +18,446,744,073,709,551,615]`. |\n",
    "\n"
   ]
  },
  {
   "cell_type": "markdown",
   "metadata": {},
   "source": [
    "#### Floats\n",
    "\n",
    "We almost always use `float64`.\n",
    "\n",
    "| Type | Alias | Description | Min > 0 | Max > 0 |\n",
    "| ---- | ----- | ----------- | ------- | ------- |\n",
    "| `float32` | `f4` | IEEE 754 single-precision binary floating-point number. | 1.18 ⨉ 10<sup>-38</sup> | 3.40 ⨉ 10<sup>38</sup> |\n",
    "| `float64` | `f8` | IEEE 754 double-precision binary floating-point number. | 2.23 ⨉ 10<sup>-308</sup> | 1.80 ⨉ 10<sup>308</sup> |\n",
    "\n",
    "The table below shows the absolute precision for both formats over a range of values given by\n",
    "\n",
    "$$\n",
    "\\text{precision} = \\frac{\\text{value}}{2^{n}};\n",
    "$$\n",
    "\n",
    "where $n$ is the number of mantissa bits which is 23 for `float32` and 52 for `float64`.\n",
    "This can be used to select an appropriate format given the expected value of a number and the required precision.\n",
    "\n",
    "| Value | `float32` precision | `float64` precision |\n",
    "| ----- | ------------------- | --------------- |\n",
    "|  **10<sup>-12</sup>** | 10<sup>-19</sup> | 10<sup>-28</sup> |\n",
    "|  **10<sup>-9</sup>** | 10<sup>-16</sup> | 10<sup>-25</sup> |\n",
    "|  **10<sup>-6</sup>** | 10<sup>-13</sup> | 10<sup>-22</sup> |\n",
    "|  **10<sup>-3</sup>** | 10<sup>-10</sup> | 10<sup>-19</sup> |\n",
    "|  **10<sup>0</sup>** | 10<sup>-7</sup> | 10<sup>-16</sup> |\n",
    "|  **10<sup>3</sup>** | 10<sup>-4</sup> | 10<sup>-13</sup> |\n",
    "|  **10<sup>6</sup>** | 10<sup>-1</sup> | 10<sup>-10</sup> |\n",
    "|  **10<sup>9</sup>** | 10<sup>2</sup> | 10<sup>-7</sup> |\n",
    "|  **10<sup>12</sup>** | 10<sup>5</sup> | 10<sup>-4</sup> |\n",
    "\n",
    "If you are primarily focused on speed, then check to see if the amount of precision loss is negligible.\n",
    "\n"
   ]
  },
  {
   "cell_type": "markdown",
   "metadata": {},
   "source": [
    "#### Text\n",
    "\n",
    "We generally use Unicode with type `utf8`.\n",
    "\n",
    "#### Boolean\n",
    "\n",
    "Type `bool` is used for `True` (`1`) and `False` (`0`)."
   ]
  }
 ],
 "metadata": {
  "kernelspec": {
   "display_name": "biosc1540-2024s-dev",
   "language": "python",
   "name": "python3"
  },
  "language_info": {
   "codemirror_mode": {
    "name": "ipython",
    "version": 3
   },
   "file_extension": ".py",
   "mimetype": "text/x-python",
   "name": "python",
   "nbconvert_exporter": "python",
   "pygments_lexer": "ipython3",
   "version": "3.11.7"
  }
 },
 "nbformat": 4,
 "nbformat_minor": 2
}
