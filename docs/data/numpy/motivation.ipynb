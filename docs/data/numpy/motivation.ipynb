{
 "cells": [
  {
   "cell_type": "markdown",
   "metadata": {},
   "source": [
    "# Motivation\n",
    "\n",
    "A one-dimensional array is a fundamental data structure in programming that represents a collection of elements stored in a linear sequence.\n",
    "Each element in the array is identified by an index, starting from 0 for the first element.\n",
    "This sounds a lot like a list (and it is).\n",
    "\n",
    "Let's start by creating a simple list of `int` values."
   ]
  },
  {
   "cell_type": "code",
   "execution_count": 1,
   "metadata": {},
   "outputs": [
    {
     "name": "stdout",
     "output_type": "stream",
     "text": [
      "[0, 1, 2, 3, 4, 5]\n",
      "<class 'list'>\n"
     ]
    }
   ],
   "source": [
    "data_list = [0, 1, 2, 3, 4, 5]\n",
    "print(data_list)\n",
    "print(type(data_list))"
   ]
  },
  {
   "cell_type": "markdown",
   "metadata": {},
   "source": [
    "We can create something very similar in [NumPy](https://numpy.org/doc/stable) called an [array](https://numpy.org/doc/stable/user/basics.creation.html).\n",
    "\n",
    "<div class=\"admonition note\">\n",
    "    <p class=\"admonition-title\">Note</p>\n",
    "    <p style=\"padding-top: 1em\">\n",
    "        Note that other programming languages use the term \"array\" or \"vector\" for the equivalent data structure of a Python list.\n",
    "        Whenever we are talking about Python, we will often say \"array\" to mean specifically a NumPy array.\n",
    "        If you are ever confused, always ask to clarify if we mean a NumPy array.\n",
    "    </p>\n",
    "</div>\n",
    "\n",
    "Okay, back to creating our Numpy array."
   ]
  },
  {
   "cell_type": "code",
   "execution_count": 2,
   "metadata": {},
   "outputs": [
    {
     "name": "stdout",
     "output_type": "stream",
     "text": [
      "[0 1 2 3 4 5]\n",
      "<class 'numpy.ndarray'>\n"
     ]
    }
   ],
   "source": [
    "import numpy as np\n",
    "\n",
    "data_array = np.array([0, 1, 2, 3, 4, 5])\n",
    "print(data_array)\n",
    "print(type(data_array))"
   ]
  },
  {
   "cell_type": "markdown",
   "metadata": {},
   "source": [
    "`data_array` contains the same information (`int`s from 0 to 5) with some major usability differences.\n",
    "First, we notice that there are no commas in between the elements when we print the array; this is mainly just for aesthetic purposes and you *could* tell NumPy to print them.\n",
    "We also check that, indeed, the data type is not a `list`, but a `numpy.ndarray`.\n",
    "\n",
    "Let's do some numerical operations with our two data structures and see the differences.\n",
    "First, let's just add `2` to each element.\n",
    "\n",
    "For a list we need to create a new list and then [loop](../../python-basics/loops) over each element, add `2`, and then `append` it to `list_added`."
   ]
  },
  {
   "cell_type": "code",
   "execution_count": 3,
   "metadata": {},
   "outputs": [
    {
     "name": "stdout",
     "output_type": "stream",
     "text": [
      "List:  [2, 3, 4, 5, 6, 7]\n"
     ]
    }
   ],
   "source": [
    "list_added = []\n",
    "for num in data_list:\n",
    "    list_added.append(num + 2)\n",
    "print(f\"List:  {list_added}\")"
   ]
  },
  {
   "cell_type": "markdown",
   "metadata": {},
   "source": [
    "Another way you could do this is with a list comprehension.\n",
    "This is essentially a shortcut to do the code in the above cell."
   ]
  },
  {
   "cell_type": "code",
   "execution_count": 4,
   "metadata": {},
   "outputs": [
    {
     "name": "stdout",
     "output_type": "stream",
     "text": [
      "List:  [2, 3, 4, 5, 6, 7]\n"
     ]
    }
   ],
   "source": [
    "list_added = [i + 2 for i in data_list]\n",
    "print(f\"List:  {list_added}\")"
   ]
  },
  {
   "cell_type": "markdown",
   "metadata": {},
   "source": [
    "For a NumPy array, we do this."
   ]
  },
  {
   "cell_type": "code",
   "execution_count": 5,
   "metadata": {},
   "outputs": [
    {
     "name": "stdout",
     "output_type": "stream",
     "text": [
      "Array: [2 3 4 5 6 7]\n"
     ]
    }
   ],
   "source": [
    "array_added = data_array + 2\n",
    "print(f\"Array: {array_added}\")"
   ]
  },
  {
   "cell_type": "markdown",
   "metadata": {},
   "source": [
    "Wow, that was easy.\n",
    "And indeed, NumPy is designed to be the de facto [library](../../python-basics/libraries) for numerical operations.\n",
    "\n",
    "What about a sum?"
   ]
  },
  {
   "cell_type": "code",
   "execution_count": 6,
   "metadata": {},
   "outputs": [
    {
     "name": "stdout",
     "output_type": "stream",
     "text": [
      "List:  15\n"
     ]
    }
   ],
   "source": [
    "list_sum = sum(data_list)\n",
    "print(f\"List:  {list_sum}\")"
   ]
  },
  {
   "cell_type": "markdown",
   "metadata": {},
   "source": [
    "Okay, not too bad."
   ]
  },
  {
   "cell_type": "code",
   "execution_count": 7,
   "metadata": {},
   "outputs": [
    {
     "name": "stdout",
     "output_type": "stream",
     "text": [
      "Array: 15\n"
     ]
    }
   ],
   "source": [
    "array_sum = np.sum(data_array)\n",
    "print(f\"Array: {array_sum}\")"
   ]
  },
  {
   "cell_type": "markdown",
   "metadata": {},
   "source": [
    "There was not much of a difference there.\n",
    "\n",
    "What about computing the mean?"
   ]
  },
  {
   "cell_type": "code",
   "execution_count": 8,
   "metadata": {},
   "outputs": [
    {
     "name": "stdout",
     "output_type": "stream",
     "text": [
      "List:  2.5\n",
      "Array: 2.5\n"
     ]
    }
   ],
   "source": [
    "list_mean = sum(data_list) / len(data_list)\n",
    "print(f\"List:  {list_mean}\")\n",
    "\n",
    "array_mean = np.mean(data_array)\n",
    "print(f\"Array: {array_mean}\")"
   ]
  },
  {
   "cell_type": "markdown",
   "metadata": {},
   "source": [
    "Alright, that does not seem like too big of a difference.\n",
    "What gives?\n",
    "\n",
    "NumPy accelerates mathematical routines compared to lists.\n",
    "For example, we can use [`timeit`](https://docs.python.org/3/library/timeit.html) to compute the average time for small snippets of code.\n",
    "Let's see how much faster NumPy is for simply computing $x^{2}$.\n",
    "\n",
    "First, we will create an array and list of random numbers from 0 to 1000."
   ]
  },
  {
   "cell_type": "code",
   "execution_count": 9,
   "metadata": {},
   "outputs": [
    {
     "name": "stdout",
     "output_type": "stream",
     "text": [
      "[840.02203123 390.43466132 943.92266283 ... 915.78585778 895.96633058\n",
      " 646.51616033]\n"
     ]
    }
   ],
   "source": [
    "random_array = np.random.uniform(low=0, high=1000, size=10000)\n",
    "print(random_array)\n",
    "random_list = random_array.tolist()"
   ]
  },
  {
   "cell_type": "markdown",
   "metadata": {},
   "source": [
    "Now, let's time the calculation."
   ]
  },
  {
   "cell_type": "code",
   "execution_count": 10,
   "metadata": {},
   "outputs": [
    {
     "name": "stdout",
     "output_type": "stream",
     "text": [
      "NumPy array time: 0.025 s\n",
      "Python list time: 3.787 s\n",
      "\n",
      "NumPy array is 151.52 times faster than Python list!\n"
     ]
    }
   ],
   "source": [
    "import timeit\n",
    "\n",
    "# Time the operation of squaring elements for NumPy array\n",
    "numpy_time = timeit.timeit(lambda: np.square(random_array), number=10000)\n",
    "\n",
    "# Time the operation of squaring elements for Python list\n",
    "list_time = timeit.timeit(lambda: [x**2 for x in random_list], number=10000)\n",
    "\n",
    "print(f\"NumPy array time: {numpy_time:.3f} s\")\n",
    "print(f\"Python list time: {list_time:.3f} s\")\n",
    "print(f\"\\nNumPy array is {list_time/numpy_time:.2f} times faster than Python list!\")"
   ]
  },
  {
   "cell_type": "markdown",
   "metadata": {},
   "source": [
    "## List of lists\n",
    "\n",
    "The real selling point for NumPy is the concept of multi-dimensional arrays which are important in ~~computational biology~~ everything.\n",
    "\n",
    "For out example, suppose we have a data set of different patient vital signs like `pulse`, `temperature`, and `spo2`.\n",
    "We could potentially have thousands, but let's stick with only three patients.\n",
    "\n",
    "While we have not covered it yet, you can actually store a list inside of a list!"
   ]
  },
  {
   "cell_type": "code",
   "execution_count": 11,
   "metadata": {},
   "outputs": [
    {
     "name": "stdout",
     "output_type": "stream",
     "text": [
      "List\n",
      "[[57, 99.0, 0.98], [68, 101.2, 0.92], [60, 98.3, 1.0]]\n"
     ]
    }
   ],
   "source": [
    "patient_data_list = [[57, 99.0, 0.98], [68, 101.2, 0.92], [60, 98.3, 1.00]]\n",
    "print(\"List\")\n",
    "print(patient_data_list)"
   ]
  },
  {
   "cell_type": "code",
   "execution_count": 12,
   "metadata": {},
   "outputs": [
    {
     "name": "stdout",
     "output_type": "stream",
     "text": [
      "Array\n",
      "[[ 57.    99.     0.98]\n",
      " [ 68.   101.2    0.92]\n",
      " [ 60.    98.3    1.  ]]\n"
     ]
    }
   ],
   "source": [
    "patient_data_array = np.array([[57, 99.0, 0.98], [68, 101.2, 0.92], [60, 98.3, 1.00]])\n",
    "print(\"Array\")\n",
    "print(patient_data_array)"
   ]
  },
  {
   "cell_type": "markdown",
   "metadata": {},
   "source": [
    "We can also use `patient_data_list` to create the array!"
   ]
  },
  {
   "cell_type": "code",
   "execution_count": 13,
   "metadata": {},
   "outputs": [
    {
     "name": "stdout",
     "output_type": "stream",
     "text": [
      "Array\n",
      "[[ 57.    99.     0.98]\n",
      " [ 68.   101.2    0.92]\n",
      " [ 60.    98.3    1.  ]]\n"
     ]
    }
   ],
   "source": [
    "patient_data_array = np.array(patient_data_list)\n",
    "print(\"Array\")\n",
    "print(patient_data_array)"
   ]
  },
  {
   "cell_type": "markdown",
   "metadata": {},
   "source": [
    "Okay, now lets compute the mean of each data category (i.e., column)."
   ]
  },
  {
   "cell_type": "code",
   "execution_count": 14,
   "metadata": {},
   "outputs": [
    {
     "name": "stdout",
     "output_type": "stream",
     "text": [
      "3\n",
      "[0.0, 0.0, 0.0]\n"
     ]
    }
   ],
   "source": [
    "# First, we create a list to store our means.\n",
    "n_patients = len(patient_data_list)  # total number of rows/patients we have\n",
    "print(n_patients)\n",
    "patient_data_mean_list = [0.0] * n_patients  # Creates list with zeros for each mean\n",
    "print(patient_data_mean_list)"
   ]
  },
  {
   "cell_type": "markdown",
   "metadata": {},
   "source": [
    "Now we have our collection where we can store intermediate values while computing the mean.\n",
    "\n",
    "To compute the mean, we first need to compute the sum for each element `i` in each list.\n",
    "Looping over each `patient_data` in `patient_data_list` would get us the data for each patient.\n",
    "Then, I can iterate over the `pulse`, `temperature`, and `spo2` and add this value to our `patient_data_mean_list`.\n",
    "\n",
    "After this, we need to normalize the sum by the total number of samples."
   ]
  },
  {
   "cell_type": "code",
   "execution_count": 15,
   "metadata": {},
   "outputs": [
    {
     "name": "stdout",
     "output_type": "stream",
     "text": [
      "[61.666666666666664, 99.5, 0.9666666666666667]\n"
     ]
    }
   ],
   "source": [
    "# Repeat this line to ensure we always start from zero in this cell.\n",
    "patient_data_mean_list = [0.0] * n_patients\n",
    "\n",
    "# Loops through each patient's data\n",
    "for patient_data in patient_data_list:\n",
    "    # Generates an index for and adds the value of patient data to the current\n",
    "    # value in patient_data_mean_list\n",
    "    for i in range(len(patient_data)):\n",
    "        patient_data_mean_list[i] = patient_data_mean_list[i] + patient_data[i]\n",
    "\n",
    "# Generates an index to loop over every sum in patient_data_mean_list\n",
    "for i in range(len(patient_data_mean_list)):\n",
    "    # Divides each sum by the number of patients to get the mean\n",
    "    patient_data_mean_list[i] = patient_data_mean_list[i] / n_patients\n",
    "\n",
    "print(patient_data_mean_list)"
   ]
  },
  {
   "cell_type": "code",
   "execution_count": 16,
   "metadata": {},
   "outputs": [
    {
     "name": "stdout",
     "output_type": "stream",
     "text": [
      "Array: [61.66666667 99.5         0.96666667]\n"
     ]
    }
   ],
   "source": [
    "patient_data_mean_array = np.mean(\n",
    "    patient_data_array, axis=0\n",
    ")  # axis must equal zero here.\n",
    "print(f\"Array: {patient_data_mean_array}\")"
   ]
  },
  {
   "cell_type": "markdown",
   "metadata": {},
   "source": [
    "That was much easier!\n",
    "But what was that `axis` parameter?\n",
    "\n",
    "Great question, however, to answer that we need to explain some fundamental NumPy array concepts."
   ]
  }
 ],
 "metadata": {
  "kernelspec": {
   "display_name": "biosc1540-2024s-dev",
   "language": "python",
   "name": "python3"
  },
  "language_info": {
   "codemirror_mode": {
    "name": "ipython",
    "version": 3
   },
   "file_extension": ".py",
   "mimetype": "text/x-python",
   "name": "python",
   "nbconvert_exporter": "python",
   "pygments_lexer": "ipython3",
   "version": "3.11.7"
  }
 },
 "nbformat": 4,
 "nbformat_minor": 2
}
