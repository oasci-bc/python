{
 "cells": [
  {
   "cell_type": "markdown",
   "metadata": {},
   "source": [
    "# Shape\n",
    "\n",
    "[ndarray.shape](https://numpy.org/doc/stable/reference/generated/numpy.ndarray.shape.html): the dimensions of the array.\n",
    "This is a tuple of integers indicating the size of the array in each dimension.\n",
    "For a matrix with `n` rows and `m` columns, shape will be `(n, m)`.\n",
    "The length of the shape tuple is therefore the number of axes, `ndim`.\n",
    "\n",
    "The shape of a NumPy array is a `tuple` that describes the size of each dimension of the array.\n",
    "It provides information about the number of elements along each axis.\n",
    "\n",
    "![](https://i.stack.imgur.com/NWTQH.png)"
   ]
  }
 ],
 "metadata": {
  "kernelspec": {
   "display_name": "biosc1540-2024s-dev",
   "language": "python",
   "name": "python3"
  },
  "language_info": {
   "codemirror_mode": {
    "name": "ipython",
    "version": 3
   },
   "file_extension": ".py",
   "mimetype": "text/x-python",
   "name": "python",
   "nbconvert_exporter": "python",
   "pygments_lexer": "ipython3",
   "version": "3.11.7"
  }
 },
 "nbformat": 4,
 "nbformat_minor": 2
}
