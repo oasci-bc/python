{
 "cells": [
  {
   "cell_type": "markdown",
   "metadata": {},
   "source": [
    "# Indexing and slicing\n",
    "\n",
    "In Python, the colon `:` is used for [slicing](https://numpy.org/doc/stable/user/basics.indexing.html) in sequences, such as strings, lists, and NumPy arrays.\n",
    "The syntax for slicing is generally `start:stop:step`.\n",
    "Here's an explanation of each part:\n",
    "\n",
    "-   `start`: The index at which the slice begins (inclusive). If omitted, it defaults to the beginning of the sequence.\n",
    "-   `stop`: The index at which the slice ends (exclusive). If omitted, it defaults to the end of the sequence.\n",
    "-   `step`: The step size or the number of indices between each slice. If omitted, it defaults to 1.\n",
    "\n",
    "\n",
    "![](https://lectures.scientific-python.org/_images/numpy_indexing.png)"
   ]
  },
  {
   "cell_type": "code",
   "execution_count": 29,
   "metadata": {},
   "outputs": [
    {
     "name": "stdout",
     "output_type": "stream",
     "text": [
      "[[ 0  1  2  3  4  5]\n",
      " [10 11 12 13 14 15]\n",
      " [20 21 22 23 24 25]\n",
      " [30 31 32 33 34 35]\n",
      " [40 41 42 43 44 45]\n",
      " [50 51 52 53 54 55]]\n"
     ]
    }
   ],
   "source": [
    "array = np.array(\n",
    "    [\n",
    "        [0, 1, 2, 3, 4, 5],\n",
    "        [10, 11, 12, 13, 14, 15],\n",
    "        [20, 21, 22, 23, 24, 25],\n",
    "        [30, 31, 32, 33, 34, 35],\n",
    "        [40, 41, 42, 43, 44, 45],\n",
    "        [50, 51, 52, 53, 54, 55],\n",
    "    ]\n",
    ")\n",
    "print(array)"
   ]
  },
  {
   "cell_type": "code",
   "execution_count": 30,
   "metadata": {},
   "outputs": [
    {
     "data": {
      "text/plain": [
       "array([0, 1, 2, 3, 4, 5])"
      ]
     },
     "execution_count": 30,
     "metadata": {},
     "output_type": "execute_result"
    }
   ],
   "source": [
    "array[0]"
   ]
  },
  {
   "cell_type": "code",
   "execution_count": 31,
   "metadata": {},
   "outputs": [
    {
     "data": {
      "text/plain": [
       "array([3, 4])"
      ]
     },
     "execution_count": 31,
     "metadata": {},
     "output_type": "execute_result"
    }
   ],
   "source": [
    "array[0, 3:5]"
   ]
  },
  {
   "cell_type": "code",
   "execution_count": 32,
   "metadata": {},
   "outputs": [
    {
     "data": {
      "text/plain": [
       "array([[44, 45],\n",
       "       [54, 55]])"
      ]
     },
     "execution_count": 32,
     "metadata": {},
     "output_type": "execute_result"
    }
   ],
   "source": [
    "array[4:, 4:]"
   ]
  },
  {
   "cell_type": "code",
   "execution_count": 33,
   "metadata": {},
   "outputs": [
    {
     "data": {
      "text/plain": [
       "array([ 2, 12, 22, 32, 42, 52])"
      ]
     },
     "execution_count": 33,
     "metadata": {},
     "output_type": "execute_result"
    }
   ],
   "source": [
    "array[:, 2]"
   ]
  },
  {
   "cell_type": "code",
   "execution_count": 34,
   "metadata": {},
   "outputs": [
    {
     "data": {
      "text/plain": [
       "array([[20, 22, 24],\n",
       "       [40, 42, 44]])"
      ]
     },
     "execution_count": 34,
     "metadata": {},
     "output_type": "execute_result"
    }
   ],
   "source": [
    "array[2::2, ::2]"
   ]
  },
  {
   "cell_type": "markdown",
   "metadata": {},
   "source": [
    "Another way to think about slicing is by specifying coordinates in the array.\n",
    "The intuition behind NumPy slicing as coordinates lies in pinpointing specific locations or regions within an array based on their positions along each dimension.\n",
    "Consider a 2D array as a grid of values, where each cell corresponds to a specific combination of row and column indices.\n",
    "When you use slicing in NumPy, you specify ranges of indices along each dimension, similar to coordinates on a grid.\n",
    "\n",
    "For example, if you have a 2D array arr representing a grid of values, `arr[i:j, k:l]` would specify a rectangular region in the grid.\n",
    "Here, `i` and `j` represent the range of row indices, and `k` and `l` represent the range of column indices.\n",
    "This is analogous to specifying coordinates for a rectangle's top-left and bottom-right corners.\n",
    "\n",
    "The ability to slice arrays in this way provides:\n",
    "\n",
    "-  A natural and efficient means of working with data at specific positions or regions.\n",
    "-  Making NumPy a versatile tool for tasks like image processing.\n",
    "-  Scientific computing.\n",
    "-  Data analysis.\n"
   ]
  }
 ],
 "metadata": {
  "kernelspec": {
   "display_name": "biosc1540-2024s-dev",
   "language": "python",
   "name": "python3"
  },
  "language_info": {
   "codemirror_mode": {
    "name": "ipython",
    "version": 3
   },
   "file_extension": ".py",
   "mimetype": "text/x-python",
   "name": "python",
   "nbconvert_exporter": "python",
   "pygments_lexer": "ipython3",
   "version": "3.11.7"
  }
 },
 "nbformat": 4,
 "nbformat_minor": 2
}
